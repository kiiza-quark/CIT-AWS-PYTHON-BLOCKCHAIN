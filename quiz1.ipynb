{
 "cells": [
  {
   "cell_type": "markdown",
   "metadata": {},
   "source": [
    "CALCULATOR "
   ]
  },
  {
   "cell_type": "code",
   "execution_count": null,
   "metadata": {},
   "outputs": [],
   "source": [
    "ADD = 1\n",
    "MULTIPLY = 2\n",
    "SUBTRACT = 3\n",
    "DIVIDE = 4\n",
    "\n",
    "val1= int(input(\"Enter 1st number: \"))\n",
    "val2 = int(input(\"Enter 2nd number: \"))\n",
    "operator = int(input(\"Enter the operator to use:\"\n",
    "                    \"\\nAddition, enter 1\"\n",
    "                    \"\\nMultiplication, enter 2\"\n",
    "                    \"\\nSubtraction, enter 3\\nDivision, enter 4\\n\"\n",
    "                    ))\n",
    "\n",
    "if operator == ADD:\n",
    "    print(f\"{val1} + {val2} =  {val1 + val2}\")\n",
    "\n",
    "elif operator == MULTIPLY:\n",
    "    print(f\"{val1} * {val2} =  {val1 * val2}\")\n",
    "\n",
    "elif operator == SUBTRACT:\n",
    "    print(f\"{val1} - {val2} =  {val1 - val2}\")\n",
    "\n",
    "elif operator == DIVIDE:\n",
    "    print(f\"{val1} / {val2} =  {val1 / val2}\")\n",
    "\n",
    "else:\n",
    "    print(\"Please enter a correct operator!\")"
   ]
  },
  {
   "cell_type": "code",
   "execution_count": null,
   "metadata": {},
   "outputs": [],
   "source": [
    "str1 = \"Name\"\n",
    "str2 = \"Is\" \n",
    "str3 = \"James\"\n",
    "\n",
    "print(f\"{str1}**{str2}**{str3}\")"
   ]
  },
  {
   "cell_type": "code",
   "execution_count": null,
   "metadata": {},
   "outputs": [],
   "source": [
    "num1 = 10\n",
    "num2 = 2045\n",
    "\n",
    "if num1 * num2 <= 1000:\n",
    "    print(f\"Product is {num1 * num2}\")\n",
    "else:\n",
    "    print(f\"Summation is {num1 + num2}\")"
   ]
  },
  {
   "cell_type": "code",
   "execution_count": null,
   "metadata": {},
   "outputs": [],
   "source": [
    "a = 10\n",
    "b = 0\n",
    "\n",
    "if a > 0 and b == 0:\n",
    "    print(\"CIT is great\")"
   ]
  }
 ],
 "metadata": {
  "kernelspec": {
   "display_name": "Python 3.10.5 64-bit",
   "language": "python",
   "name": "python3"
  },
  "language_info": {
   "name": "python",
   "version": "3.10.5"
  },
  "orig_nbformat": 4,
  "vscode": {
   "interpreter": {
    "hash": "df95319d8ce4e1d89f5365ae10992bc1f65da593082b1d264e8f529830ec2f02"
   }
  }
 },
 "nbformat": 4,
 "nbformat_minor": 2
}
