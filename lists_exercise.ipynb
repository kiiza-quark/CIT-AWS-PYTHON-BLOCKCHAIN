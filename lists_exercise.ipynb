{
 "cells": [
  {
   "cell_type": "markdown",
   "metadata": {},
   "source": [
    "## NSHABIIRWE KIZZAH"
   ]
  },
  {
   "cell_type": "markdown",
   "metadata": {},
   "source": [
    "## Exercise"
   ]
  },
  {
   "cell_type": "markdown",
   "metadata": {},
   "source": [
    "1. Write a Python program to sum all the items in a list.\n",
    "    - The list should be generated using list comprehension\n",
    "    - The size of the list should be from a user input\n",
    "\n",
    "2. Write a Python program to count the number of strings where the string length is 2 or more and the first and last character are same from a given list of strings. Sample List : `['abc', 'xyz', 'aba', '1221']`\n",
    "\n",
    "3. Write a Python program to remove duplicates from a list, given list\n",
    "    `fruits = [\"Apple\", \"Banana\", \"Melon\", \"Banana\", \"Cherry\", \"Banana\"]`\n",
    "\n",
    "4. Write a Python program to print a specified list after removing the 0th, 4th and 5th elements. Sample List : `['Red', 'Green', 'White', 'Black', 'Pink', 'Yellow']`\n",
    "\n",
    "5. Write a Python program to generate and print a list except for the first 5 elements, where the values are square of numbers between 1 and 30 (both included)\n"
   ]
  },
  {
   "cell_type": "markdown",
   "metadata": {},
   "source": [
    "##### 1. Write a Python program to sum all the items in a list.\n",
    "    - The list should be generated using list comprehension\n",
    "    - The size of the list should be from a user input"
   ]
  },
  {
   "cell_type": "code",
   "execution_count": 1,
   "metadata": {},
   "outputs": [
    {
     "name": "stdout",
     "output_type": "stream",
     "text": [
      "91.66666666666667\n"
     ]
    }
   ],
   "source": [
    "size = int(input(\"Enter the size of the list: \"))\n",
    "\n",
    "list = [item *2 / 3 + 5 for item in range(size + 1)]\n",
    "sum = 0\n",
    "for item in list:\n",
    "    sum += item\n",
    "\n",
    "print(sum)"
   ]
  },
  {
   "cell_type": "markdown",
   "metadata": {},
   "source": [
    "##### 2. Write a Python program to count the number of strings where the string length is 2 or more and the first and last character are same from a given list of strings. Sample List : `['abc', 'xyz', 'aba', '1221']`"
   ]
  },
  {
   "cell_type": "code",
   "execution_count": 2,
   "metadata": {},
   "outputs": [
    {
     "name": "stdout",
     "output_type": "stream",
     "text": [
      "2\n"
     ]
    }
   ],
   "source": [
    "list = ['abc', 'xyz', 'aba', '1221']\n",
    "count = 0\n",
    "for string in list:\n",
    "    if len(string) >= 2 and string[0] == string[-1]:\n",
    "        count += 1\n",
    "\n",
    "print(count)"
   ]
  },
  {
   "cell_type": "markdown",
   "metadata": {},
   "source": [
    "##### 3. Write a Python program to remove duplicates from a list, given list \n",
    "`fruits = [\"Apple\", \"Banana\", \"Melon\", \"Banana\", \"Cherry\", \"Banana\"]`"
   ]
  },
  {
   "cell_type": "code",
   "execution_count": 11,
   "metadata": {},
   "outputs": [
    {
     "name": "stdout",
     "output_type": "stream",
     "text": [
      "['Apple', 'Banana', 'Melon', 'Cherry']\n"
     ]
    }
   ],
   "source": [
    "fruits = [\"Apple\", \"Banana\", \"Melon\", \"Banana\", \"Cherry\", \"Banana\"]\n",
    "\n",
    "new_fruits = []\n",
    "for fruit in fruits:\n",
    "    if fruit  not in  new_fruits:\n",
    "        new_fruits.append(fruit)\n",
    "\n",
    "print(new_fruits)\n"
   ]
  },
  {
   "cell_type": "markdown",
   "metadata": {},
   "source": [
    "##### 4. Write a Python program to print a specified list after removing the 0th, 4th and 5th elements. Sample List : `['Red', 'Green', 'White', 'Black', 'Pink', 'Yellow']`\n"
   ]
  },
  {
   "cell_type": "code",
   "execution_count": 15,
   "metadata": {},
   "outputs": [
    {
     "name": "stdout",
     "output_type": "stream",
     "text": [
      "['Green', 'White', 'Black', 'Pink', 'indigo']\n"
     ]
    }
   ],
   "source": [
    "list = ['Red', 'Green', 'White', 'Black', 'Pink', 'Yellow','indigo']\n",
    "\n",
    "for item in list:\n",
    "    if list.index(item) == 0 or list.index(item) == 4 or list.index(item) == 5:\n",
    "        list.remove(item)\n",
    "print(list)"
   ]
  },
  {
   "cell_type": "markdown",
   "metadata": {},
   "source": [
    "##### 5. Write a Python program to generate and print a list except for the first 5 elements, where the values are square of numbers between 1 and 30 (both included)"
   ]
  },
  {
   "cell_type": "code",
   "execution_count": 27,
   "metadata": {},
   "outputs": [
    {
     "name": "stdout",
     "output_type": "stream",
     "text": [
      "[36, 49, 64, 81, 100, 121, 144, 169, 196, 225, 256, 289, 324, 361, 400, 441, 484, 529, 576, 625, 676, 729, 784, 841, 900]\n"
     ]
    }
   ],
   "source": [
    "my_list = [n**2 for n in range(6,30 + 1)]\n",
    "print(my_list)\n"
   ]
  }
 ],
 "metadata": {
  "kernelspec": {
   "display_name": "Python 3.10.5 64-bit (system)",
   "language": "python",
   "name": "python3"
  },
  "language_info": {
   "codemirror_mode": {
    "name": "ipython",
    "version": 3
   },
   "file_extension": ".py",
   "mimetype": "text/x-python",
   "name": "python",
   "nbconvert_exporter": "python",
   "pygments_lexer": "ipython3",
   "version": "3.10.6"
  },
  "orig_nbformat": 4,
  "vscode": {
   "interpreter": {
    "hash": "2d11fb966e7497af3002efb31ab1224576268d28484758187706c1533c7661ce"
   }
  }
 },
 "nbformat": 4,
 "nbformat_minor": 2
}
