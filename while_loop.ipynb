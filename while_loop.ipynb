{
 "cells": [
  {
   "cell_type": "code",
   "execution_count": 2,
   "metadata": {},
   "outputs": [
    {
     "name": "stdout",
     "output_type": "stream",
     "text": [
      "The sum is 500500\n"
     ]
    }
   ],
   "source": [
    "# Program to add natural\n",
    "# numbers up to nth term\n",
    "\n",
    "# sequence: sum = 1 + 2 + 3 + ... + n\n",
    "\n",
    "# initialize sum and counter\n",
    "sum = 0\n",
    "counter = 1\n",
    "\n",
    "n = int(input(\"Enter the value of n: \"))\n",
    "\n",
    "# calculate sum of first n natural numbers\n",
    "while counter <= n:\n",
    "    sum += counter\n",
    "    counter += 1\n",
    "\n",
    "# display the sum\n",
    "print(\"The sum is\", sum)"
   ]
  },
  {
   "cell_type": "markdown",
   "metadata": {},
   "source": [
    "BREAK\n"
   ]
  },
  {
   "cell_type": "code",
   "execution_count": null,
   "metadata": {},
   "outputs": [],
   "source": [
    "# Use of break statement inside the loop\n",
    "\n",
    "for val in \"Python\":\n",
    "    if val == \"h\":\n",
    "        break\n",
    "    print(val)"
   ]
  },
  {
   "cell_type": "markdown",
   "metadata": {},
   "source": [
    "CONTINUE\n"
   ]
  },
  {
   "cell_type": "code",
   "execution_count": null,
   "metadata": {},
   "outputs": [],
   "source": [
    "# Use of continue statement inside the loop\n",
    "\n",
    "for val in \"Python\":\n",
    "    if val == \"h\":\n",
    "        continue\n",
    "    print(val)"
   ]
  }
 ],
 "metadata": {
  "kernelspec": {
   "display_name": "Python 3.10.5 64-bit",
   "language": "python",
   "name": "python3"
  },
  "language_info": {
   "codemirror_mode": {
    "name": "ipython",
    "version": 3
   },
   "file_extension": ".py",
   "mimetype": "text/x-python",
   "name": "python",
   "nbconvert_exporter": "python",
   "pygments_lexer": "ipython3",
   "version": "3.10.5"
  },
  "orig_nbformat": 4,
  "vscode": {
   "interpreter": {
    "hash": "df95319d8ce4e1d89f5365ae10992bc1f65da593082b1d264e8f529830ec2f02"
   }
  }
 },
 "nbformat": 4,
 "nbformat_minor": 2
}
