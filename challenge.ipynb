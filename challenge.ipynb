{
 "cells": [
  {
   "cell_type": "markdown",
   "metadata": {},
   "source": [
    "#### Write a Python program that accepts a hyphen-separated sequence of words as input and prints the words in a hyphen-separated sequence after sorting them alphabetically.\n",
    "#### Sample Items : green-red-yellow-black-white\n",
    "#### Expected Result : black-green-red-white-yellow\n"
   ]
  },
  {
   "cell_type": "code",
   "execution_count": 21,
   "metadata": {},
   "outputs": [
    {
     "name": "stdout",
     "output_type": "stream",
     "text": [
      "[1, 1, 2, 2, 2, 3, 3, 3, 4, 4, 5]\n"
     ]
    }
   ],
   "source": [
    "sample = \"green-red-yellow-black-white\"\n",
    "\n",
    "def organise(string):\n",
    "    split = list(string.split('-'))\n",
    "    split.sort()\n",
    "    return '-'.join(split) \n",
    "\n",
    "organise(sample)\n",
    "\n",
    "lst = [1,2,3,4,5,3,4,2,1,2,3]\n",
    "print(sorted(lst))"
   ]
  },
  {
   "cell_type": "code",
   "execution_count": 26,
   "metadata": {},
   "outputs": [
    {
     "data": {
      "text/plain": [
       "[89, 178, 267, 356]"
      ]
     },
     "execution_count": 26,
     "metadata": {},
     "output_type": "execute_result"
    }
   ],
   "source": [
    "def multiples(num: int, lenght: int) -> list:\n",
    "    #check params\n",
    "    if not isinstance(num, int) or not isinstance(lenght, int):\n",
    "        raise TypeError(\"Expected integer values\")\n",
    "    return [num * i for i in range(1, lenght+1)]\n",
    "\n",
    "multiples(89,4)"
   ]
  },
  {
   "cell_type": "markdown",
   "metadata": {},
   "source": [
    "#### Given a list of word in a singular form, return  set of those words in plurarl form is they appear more than once in the list "
   ]
  },
  {
   "cell_type": "code",
   "execution_count": 34,
   "metadata": {},
   "outputs": [
    {
     "data": {
      "text/plain": [
       "{'bicycle', 'car', 'cars', 'motor'}"
      ]
     },
     "execution_count": 34,
     "metadata": {},
     "output_type": "execute_result"
    }
   ],
   "source": [
    "words = [\"car\",\"bicycle\",\"motor\",\"cars\"]\n",
    "\n",
    "def pluralise(words: list) -> set:\n",
    "    if not isinstance(words, list):\n",
    "        raise TypeError(\"Expected list\")\n",
    "    output = set()\n",
    "    for word in words:\n",
    "        if words.count(word) > 1:\n",
    "            output.add(word + \"s\")\n",
    "        else:\n",
    "            output.add(word)\n",
    "    return output\n",
    "pluralise(words)"
   ]
  },
  {
   "cell_type": "markdown",
   "metadata": {},
   "source": [
    "#### create a program that takes in a dictionary of objects like `{\"name\": \"john\",\"notes\": [3,5,4]}` and returns a dictionary of objects like `{\"name\": \"john\",\"top_notes\":5}"
   ]
  },
  {
   "cell_type": "code",
   "execution_count": 36,
   "metadata": {},
   "outputs": [
    {
     "ename": "TypeError",
     "evalue": "'builtin_function_or_method' object is not subscriptable",
     "output_type": "error",
     "traceback": [
      "\u001b[1;31m---------------------------------------------------------------------------\u001b[0m",
      "\u001b[1;31mTypeError\u001b[0m                                 Traceback (most recent call last)",
      "\u001b[1;32mc:\\Users\\USER\\Desktop\\CIT_PYTHON\\challenge.ipynb Cell 7\u001b[0m in \u001b[0;36m<cell line: 8>\u001b[1;34m()\u001b[0m\n\u001b[0;32m      <a href='vscode-notebook-cell:/c%3A/Users/USER/Desktop/CIT_PYTHON/challenge.ipynb#X12sZmlsZQ%3D%3D?line=4'>5</a>\u001b[0m     \u001b[39mreturn\u001b[39;00m {\u001b[39m\"\u001b[39m\u001b[39mname\u001b[39m\u001b[39m\"\u001b[39m:dictionary[\u001b[39m\"\u001b[39m\u001b[39mname\u001b[39m\u001b[39m\"\u001b[39m], top_note: \u001b[39mmax\u001b[39m[dictionary[\u001b[39m\"\u001b[39m\u001b[39mnotes\u001b[39m\u001b[39m\"\u001b[39m]]}\n\u001b[0;32m      <a href='vscode-notebook-cell:/c%3A/Users/USER/Desktop/CIT_PYTHON/challenge.ipynb#X12sZmlsZQ%3D%3D?line=6'>7</a>\u001b[0m my_dict \u001b[39m=\u001b[39m {\u001b[39m\"\u001b[39m\u001b[39mname\u001b[39m\u001b[39m\"\u001b[39m: \u001b[39m\"\u001b[39m\u001b[39mjohn\u001b[39m\u001b[39m\"\u001b[39m,\u001b[39m\"\u001b[39m\u001b[39mnotes\u001b[39m\u001b[39m\"\u001b[39m: [\u001b[39m3\u001b[39m,\u001b[39m5\u001b[39m,\u001b[39m4\u001b[39m]}\n\u001b[1;32m----> <a href='vscode-notebook-cell:/c%3A/Users/USER/Desktop/CIT_PYTHON/challenge.ipynb#X12sZmlsZQ%3D%3D?line=7'>8</a>\u001b[0m top_note(my_dict)\n",
      "\u001b[1;32mc:\\Users\\USER\\Desktop\\CIT_PYTHON\\challenge.ipynb Cell 7\u001b[0m in \u001b[0;36mtop_note\u001b[1;34m(dictionary)\u001b[0m\n\u001b[0;32m      <a href='vscode-notebook-cell:/c%3A/Users/USER/Desktop/CIT_PYTHON/challenge.ipynb#X12sZmlsZQ%3D%3D?line=1'>2</a>\u001b[0m \u001b[39mif\u001b[39;00m \u001b[39mnot\u001b[39;00m \u001b[39misinstance\u001b[39m(dictionary, \u001b[39mdict\u001b[39m):\n\u001b[0;32m      <a href='vscode-notebook-cell:/c%3A/Users/USER/Desktop/CIT_PYTHON/challenge.ipynb#X12sZmlsZQ%3D%3D?line=2'>3</a>\u001b[0m     \u001b[39mreturn\u001b[39;00m \u001b[39mTypeError\u001b[39;00m(\u001b[39m\"\u001b[39m\u001b[39mExpected a dictionary\u001b[39m\u001b[39m\"\u001b[39m)\n\u001b[1;32m----> <a href='vscode-notebook-cell:/c%3A/Users/USER/Desktop/CIT_PYTHON/challenge.ipynb#X12sZmlsZQ%3D%3D?line=4'>5</a>\u001b[0m \u001b[39mreturn\u001b[39;00m {\u001b[39m\"\u001b[39m\u001b[39mname\u001b[39m\u001b[39m\"\u001b[39m:dictionary[\u001b[39m\"\u001b[39m\u001b[39mname\u001b[39m\u001b[39m\"\u001b[39m], top_note: \u001b[39mmax\u001b[39;49m[dictionary[\u001b[39m\"\u001b[39;49m\u001b[39mnotes\u001b[39;49m\u001b[39m\"\u001b[39;49m]]}\n",
      "\u001b[1;31mTypeError\u001b[0m: 'builtin_function_or_method' object is not subscriptable"
     ]
    }
   ],
   "source": [
    "def top_note(dictionary: dict) -> dict:\n",
    "    if not isinstance(dictionary, dict):\n",
    "        return TypeError(\"Expected a dictionary\")\n",
    "        \n",
    "    return {\"name\":dictionary[\"name\"], top_note: max[dictionary[\"notes\"]]}\n",
    "\n",
    "my_dict = {\"name\": \"john\",\"notes\": [3,5,4]}\n",
    "top_note(my_dict)"
   ]
  },
  {
   "cell_type": "markdown",
   "metadata": {},
   "source": [
    "#### \"\"\"\n",
    "Make a function that encrypts a given input with these steps:\n",
    "\n",
    "Input: \"apple\"\n",
    "\n",
    "Step 1: Reverse the input: \"elppa\"\n",
    "\n",
    "Step 2: Replace all vowels using the following chart:\n",
    "\n",
    "a => 0\n",
    "e => 1\n",
    "i => 2\n",
    "o => 2\n",
    "u => 3\n",
    "\n",
    "# \"1lpp0\"\n",
    "Step 3: Add \"aca\" to the end of the word: \"1lpp0aca\"\n",
    "\n",
    "Output: \"1lpp0aca\"\n"
   ]
  },
  {
   "cell_type": "code",
   "execution_count": 37,
   "metadata": {},
   "outputs": [
    {
     "data": {
      "text/plain": [
       "'h0zz2kaca'"
      ]
     },
     "execution_count": 37,
     "metadata": {},
     "output_type": "execute_result"
    }
   ],
   "source": [
    "def encrypt(string: str) -> str:\n",
    "    if not isinstance(string, str):\n",
    "        raise TypeError(\"Expected a string\")\n",
    "\n",
    "    return string[::-1].translate(str.maketrans(\"aeiou\", \"01223\")) + \"aca\"\n",
    "\n",
    "\n",
    "encrypt(\"kizzah\")"
   ]
  }
 ],
 "metadata": {
  "kernelspec": {
   "display_name": "Python 3.10.6 64-bit",
   "language": "python",
   "name": "python3"
  },
  "language_info": {
   "codemirror_mode": {
    "name": "ipython",
    "version": 3
   },
   "file_extension": ".py",
   "mimetype": "text/x-python",
   "name": "python",
   "nbconvert_exporter": "python",
   "pygments_lexer": "ipython3",
   "version": "3.10.6"
  },
  "orig_nbformat": 4,
  "vscode": {
   "interpreter": {
    "hash": "df95319d8ce4e1d89f5365ae10992bc1f65da593082b1d264e8f529830ec2f02"
   }
  }
 },
 "nbformat": 4,
 "nbformat_minor": 2
}
