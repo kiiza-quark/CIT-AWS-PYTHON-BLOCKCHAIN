{
 "cells": [
  {
   "cell_type": "markdown",
   "metadata": {},
   "source": [
    "### COUNT DOWN TIMER PROGRAM"
   ]
  },
  {
   "cell_type": "code",
   "execution_count": null,
   "metadata": {},
   "outputs": [],
   "source": [
    "import sys\n",
    "import time\n",
    "import datetime"
   ]
  },
  {
   "cell_type": "code",
   "execution_count": 4,
   "metadata": {},
   "outputs": [
    {
     "name": "stdout",
     "output_type": "stream",
     "text": [
      "countdown_timer.ipynb <number>\n"
     ]
    },
    {
     "ename": "SystemExit",
     "evalue": "-1",
     "output_type": "error",
     "traceback": [
      "An exception has occurred, use %tb to see the full traceback.\n",
      "\u001b[1;31mSystemExit\u001b[0m\u001b[1;31m:\u001b[0m -1\n"
     ]
    },
    {
     "name": "stderr",
     "output_type": "stream",
     "text": [
      "c:\\Users\\USER\\AppData\\Local\\Programs\\Python\\Python310\\lib\\site-packages\\IPython\\core\\interactiveshell.py:3406: UserWarning: To exit: use 'exit', 'quit', or Ctrl-D.\n",
      "  warn(\"To exit: use 'exit', 'quit', or Ctrl-D.\", stacklevel=1)\n"
     ]
    }
   ],
   "source": [
    "# show how to use our pogram\n",
    "def usage():\n",
    "    print(\"countdown_timer.ipynb <number>\")\n",
    "\n",
    "#coundown timer function\n",
    "def countdown_timer():\n",
    "    #check id user passed in comandline arguments\n",
    "    if len(sys.argv) == 2:\n",
    "        #check is arguments can be converted into an interger\n",
    "        try:\n",
    "            countdown = int(sys.argv[1])\n",
    "        except ValueError:\n",
    "            print(\"Please enter a valid number\")\n",
    "            sys.exit(-1)\n",
    "    \n",
    "    else:\n",
    "        # show usage if no arguments were passed\n",
    "        usage()\n",
    "        sys.exit(-1)\n",
    "\n",
    "    while countdown > 0:\n",
    "        # countdown format = 00:00:00\n",
    "        countdown_time = str(datetime.timedelta(seconds=countdown))\n",
    "        print(countdown_time)\n",
    "        countdown -= 1\n",
    "    print(\"Countdown Finished\")\n",
    "#create main function\n",
    "def main():\n",
    "    countdown_timer()\n",
    "    \n",
    "#invoke main function\n",
    "if __name__ == '__main__':\n",
    "    main()\n"
   ]
  },
  {
   "cell_type": "markdown",
   "metadata": {},
   "source": [
    "### RANDOM MODULE"
   ]
  }
 ],
 "metadata": {
  "kernelspec": {
   "display_name": "Python 3.10.6 64-bit",
   "language": "python",
   "name": "python3"
  },
  "language_info": {
   "codemirror_mode": {
    "name": "ipython",
    "version": 3
   },
   "file_extension": ".py",
   "mimetype": "text/x-python",
   "name": "python",
   "nbconvert_exporter": "python",
   "pygments_lexer": "ipython3",
   "version": "3.10.6"
  },
  "orig_nbformat": 4,
  "vscode": {
   "interpreter": {
    "hash": "df95319d8ce4e1d89f5365ae10992bc1f65da593082b1d264e8f529830ec2f02"
   }
  }
 },
 "nbformat": 4,
 "nbformat_minor": 2
}
