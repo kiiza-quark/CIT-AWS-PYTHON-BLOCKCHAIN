{
 "cells": [
  {
   "cell_type": "markdown",
   "metadata": {},
   "source": [
    "##### https://github.com/CIT-PROJECTS-2021/cit-cohort-three/blob/main/assignments/projects/assignment.md"
   ]
  },
  {
   "cell_type": "markdown",
   "metadata": {},
   "source": [
    "1. Weather Program Python Project Using the requests library, create a program that will take a city name as input and return the current weather for that city. The program should also save the city name and the current weather to a file. The program should also be able to read the file and print the city name and the current weather. Use this API to get the weather data: https://openweathermap.org/current\n",
    "\n",
    "2. Password Generator Python Project Create a program that generates a random password for the user. Ask the user how long they want their password to be, and how many letters and numbers they want in their password. Have a mix of upper and lowercase letters, as well as numbers and symbols. The password should be a minimum of 6 characters long.\n",
    "\n",
    "3. Interactive quiz Python Project Create a program that asks the user a series of questions. Each question should have a multiple choice answer. The user should be able to type in the letter of the answer they think is correct. After all the questions have been asked, the program should tell the user how many they got correct and what the correct answers were.\n",
    "\n",
    "4. Country Cities Guessing Game Python Project Create a program that will ask a user to guess the capital of a country. The program should have a list of at least 10 countries and their capitals. The program should randomly choose a country and ask the user to guess the capital. The program should tell the user if they are correct or not. The program should also keep track of how many questions the user gets correct and print that out at the end. Use this link to programatically get the list of countries and their capitals: https://raw.githubusercontent.com/samayo/country-json/master/src/country-by-capital-city.json"
   ]
  }
 ],
 "metadata": {
  "kernelspec": {
   "display_name": "Python 3.10.7 64-bit",
   "language": "python",
   "name": "python3"
  },
  "language_info": {
   "name": "python",
   "version": "3.10.7"
  },
  "orig_nbformat": 4,
  "vscode": {
   "interpreter": {
    "hash": "df95319d8ce4e1d89f5365ae10992bc1f65da593082b1d264e8f529830ec2f02"
   }
  }
 },
 "nbformat": 4,
 "nbformat_minor": 2
}
