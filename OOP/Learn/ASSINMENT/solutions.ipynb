{
 "cells": [
  {
   "cell_type": "markdown",
   "metadata": {},
   "source": [
    "1. Weather Program Python Project Using the requests library, create a program that will take a city name as input and return the current weather for that city. The program should also save the city name and the current weather to a file. The program should also be able to read the file and print the city name and the current weather. Use this API to get the weather data: https://openweathermap.org/current"
   ]
  },
  {
   "cell_type": "code",
   "execution_count": null,
   "metadata": {},
   "outputs": [],
   "source": [
    "import requests\n",
    "import os\n",
    "import json\n",
    "def fetch_weather(city: str) -> any:    \n",
    "    res = requests.get(\"https://api.openweathermap.org/data/2.5/weather?appid={}&q={}\".format(os.environ['CURRENT_WEATHER_API_KEY'], city.lower()))\n",
    "    json_data = res.json()\n",
    "    \n",
    "    return json_data\n",
    "    \n",
    "fetch_weather('kampala')"
   ]
  },
  {
   "cell_type": "markdown",
   "metadata": {},
   "source": [
    "2. Password Generator Python Project Create a program that generates a random password for the user. Ask the user how long they want their password to be, and how many letters and numbers they want in their password. Have a mix of upper and lowercase letters, as well as numbers and symbols. The password should be a minimum of 6 characters long.\n"
   ]
  },
  {
   "cell_type": "code",
   "execution_count": 1,
   "metadata": {},
   "outputs": [
    {
     "data": {
      "text/plain": [
       "'=Z}9R7y#)W'"
      ]
     },
     "execution_count": 1,
     "metadata": {},
     "output_type": "execute_result"
    }
   ],
   "source": [
    "import itertools\n",
    "import string\n",
    "import random\n",
    "\n",
    "def generate_password() -> str:\n",
    "    symbols = list(\"!\\\"#$%&'()*+,-./:;<=>?@[\\]^`{|}~\")\n",
    "\n",
    "    length = int(input(\"Enter the legth of the password: \"))\n",
    "    if length < 6:\n",
    "        length = int(input(\"Please enter length greater tha 5: \"))\n",
    "    total_letters = int(input(\"How many caharaters do you want in the password: \"))\n",
    "    total_numbers = int(input(\"How many numbers do ypu want in the password: \"))\n",
    "\n",
    "    password = []\n",
    "\n",
    "    if total_letters + total_numbers > length:\n",
    "        return \"Needed letters and numbers greater than length\"\n",
    "\n",
    "    password.append(random.choices(list(string.ascii_letters), k=total_letters))\n",
    "    password.append(random.choices(list(string.digits), k=total_numbers))\n",
    "    password.append(random.choices(symbols, k=(length - (total_numbers+total_letters))))\n",
    "    password_list = list(itertools.chain(*password))\n",
    "    random.shuffle(password_list)\n",
    "\n",
    "    return ''.join(password_list)\n",
    "    \n",
    "\n",
    "generate_password()"
   ]
  },
  {
   "cell_type": "markdown",
   "metadata": {},
   "source": [
    "3. Interactive quiz Python Project Create a program that asks the user a series of questions. Each question should have a multiple choice answer. The user should be able to type in the letter of the answer they think is correct. After all the questions have been asked, the program should tell the user how many they got correct and what the correct answers were.\n"
   ]
  },
  {
   "cell_type": "code",
   "execution_count": null,
   "metadata": {},
   "outputs": [],
   "source": []
  },
  {
   "cell_type": "markdown",
   "metadata": {},
   "source": [
    "\n",
    "4. Country Cities Guessing Game Python Project Create a program that will ask a user to guess the capital of a country. The program should have a list of at least 10 countries and their capitals. The program should randomly choose a country and ask the user to guess the capital. The program should tell the user if they are correct or not. The program should also keep track of how many questions the user gets correct and print that out at the end. Use this link to programatically get the list of countries and their capitals: https://raw.githubusercontent.com/samayo/country-json/master/src/country-by-capital-city.json"
   ]
  },
  {
   "cell_type": "code",
   "execution_count": null,
   "metadata": {},
   "outputs": [],
   "source": [
    "import requests\n",
    "\n",
    "def play():\n",
    "    data = requests.get(\"https://raw.githubusercontent.com/samayo/country-json/master/src/country-by-capital-city.json\")\n",
    "    times = 0\n",
    "    points = 0\n",
    "    while times < 10:\n",
    "        random_data = random.choices(data)\n",
    "        country = random_data['country']\n",
    "        capital = country['city']\n",
    "        print(\"What is the capital city of {country}?\")\n",
    "        answer = input()\n",
    "        if answer.lower() == capital:\n",
    "            points += 1\n",
    "\n",
    "        times += 1\n",
    "\n",
    "    result = {\n",
    "        [10]: \"Exellent!!\",\n",
    "        [7,8,9]: \"Good! \",\n",
    "        [5,6]: \n",
    "    }\n",
    "\n",
    "    "
   ]
  }
 ],
 "metadata": {
  "kernelspec": {
   "display_name": "Python 3.10.6 64-bit",
   "language": "python",
   "name": "python3"
  },
  "language_info": {
   "codemirror_mode": {
    "name": "ipython",
    "version": 3
   },
   "file_extension": ".py",
   "mimetype": "text/x-python",
   "name": "python",
   "nbconvert_exporter": "python",
   "pygments_lexer": "ipython3",
   "version": "3.10.7"
  },
  "orig_nbformat": 4,
  "vscode": {
   "interpreter": {
    "hash": "df95319d8ce4e1d89f5365ae10992bc1f65da593082b1d264e8f529830ec2f02"
   }
  }
 },
 "nbformat": 4,
 "nbformat_minor": 2
}
