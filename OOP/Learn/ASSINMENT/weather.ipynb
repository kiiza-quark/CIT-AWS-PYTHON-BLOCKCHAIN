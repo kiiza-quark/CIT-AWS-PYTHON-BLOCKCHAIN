{
 "cells": [
  {
   "cell_type": "code",
   "execution_count": 16,
   "metadata": {},
   "outputs": [
    {
     "data": {
      "text/plain": [
       "{'coord': {'lon': 32.5822, 'lat': 0.3163},\n",
       " 'weather': [{'id': 804,\n",
       "   'main': 'Clouds',\n",
       "   'description': 'overcast clouds',\n",
       "   'icon': '04d'}],\n",
       " 'base': 'stations',\n",
       " 'main': {'temp': 292.81,\n",
       "  'feels_like': 293.26,\n",
       "  'temp_min': 292.81,\n",
       "  'temp_max': 292.81,\n",
       "  'pressure': 1016,\n",
       "  'humidity': 93,\n",
       "  'sea_level': 1016,\n",
       "  'grnd_level': 883},\n",
       " 'visibility': 10000,\n",
       " 'wind': {'speed': 1.9, 'deg': 12, 'gust': 4.69},\n",
       " 'clouds': {'all': 98},\n",
       " 'dt': 1662528637,\n",
       " 'sys': {'type': 1,\n",
       "  'id': 2642,\n",
       "  'country': 'UG',\n",
       "  'sunrise': 1662522271,\n",
       "  'sunset': 1662565888},\n",
       " 'timezone': 10800,\n",
       " 'id': 232422,\n",
       " 'name': 'Kampala',\n",
       " 'cod': 200}"
      ]
     },
     "execution_count": 16,
     "metadata": {},
     "output_type": "execute_result"
    }
   ],
   "source": [
    "import requests\n",
    "import os\n",
    "import json\n",
    "def fetch_weather(city: str) -> any:    \n",
    "    res = requests.get(\"https://api.openweathermap.org/data/2.5/weather?appid={}&q={}\".format(os.environ['CURRENT_WEATHER_API_KEY'], city.lower()))\n",
    "    json_data = res.json()\n",
    "\n",
    "    return json_data\n",
    "    \n",
    "fetch_weather('kampala')"
   ]
  }
 ],
 "metadata": {
  "kernelspec": {
   "display_name": "Python 3.10.6 64-bit",
   "language": "python",
   "name": "python3"
  },
  "language_info": {
   "codemirror_mode": {
    "name": "ipython",
    "version": 3
   },
   "file_extension": ".py",
   "mimetype": "text/x-python",
   "name": "python",
   "nbconvert_exporter": "python",
   "pygments_lexer": "ipython3",
   "version": "3.10.7"
  },
  "orig_nbformat": 4,
  "vscode": {
   "interpreter": {
    "hash": "df95319d8ce4e1d89f5365ae10992bc1f65da593082b1d264e8f529830ec2f02"
   }
  }
 },
 "nbformat": 4,
 "nbformat_minor": 2
}
