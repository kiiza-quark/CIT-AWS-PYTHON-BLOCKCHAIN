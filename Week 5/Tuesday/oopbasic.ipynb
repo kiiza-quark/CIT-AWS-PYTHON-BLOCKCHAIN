{
 "cells": [
  {
   "cell_type": "markdown",
   "metadata": {},
   "source": [
    "### class\n"
   ]
  },
  {
   "cell_type": "code",
   "execution_count": 6,
   "metadata": {},
   "outputs": [
    {
     "data": {
      "text/plain": [
       "'<__main__.Car object at 0x000001AFED7D7D90>'"
      ]
     },
     "execution_count": 6,
     "metadata": {},
     "output_type": "execute_result"
    }
   ],
   "source": [
    "class Car:\n",
    "    brand = 'lambo'\n",
    "    make = 2020\n",
    "\n",
    "lambo = Car()\n",
    "\n",
    "type(lambo)"
   ]
  },
  {
   "cell_type": "code",
   "execution_count": 4,
   "metadata": {},
   "outputs": [
    {
     "name": "stdout",
     "output_type": "stream",
     "text": [
      "Blu is a bird\n",
      "Woo is also a bird\n",
      "Blu is 10 years old\n",
      "Woo is 15 years old\n"
     ]
    }
   ],
   "source": [
    "class Parrot:\n",
    "    # class attribute\n",
    "    species = \"bird\"\n",
    "\n",
    "    # instance attributes\n",
    "    \n",
    "    def __init__(self, name, age):\n",
    "        self.name = name\n",
    "        self.age = age\n",
    "\n",
    "# instantiate the object\n",
    "blu = Parrot(\"Blu\", 10)\n",
    "woo = Parrot(\"Woo\", 15)\n",
    "\n",
    "# access the class attributes\n",
    "print(\"Blu is a {}\".format(blu.__class__.species))\n",
    "print(\"Woo is also a {}\".format(woo.__class__.species))\n",
    "\n",
    "# access the instance attributes\n",
    "print(\"{} is {} years old\".format(blu.name, blu.age))\n",
    "print(\"{} is {} years old\".format(woo.name, woo.age))"
   ]
  },
  {
   "cell_type": "code",
   "execution_count": 20,
   "metadata": {},
   "outputs": [
    {
     "ename": "AttributeError",
     "evalue": "'Car' object has no attribute 'create_unique_id'",
     "output_type": "error",
     "traceback": [
      "\u001b[1;31m---------------------------------------------------------------------------\u001b[0m",
      "\u001b[1;31mAttributeError\u001b[0m                            Traceback (most recent call last)",
      "\u001b[1;32mc:\\Users\\USER\\Desktop\\CIT_PYTHON\\Week 5\\Tuesday\\oopbasic.ipynb Cell 4\u001b[0m in \u001b[0;36m<cell line: 34>\u001b[1;34m()\u001b[0m\n\u001b[0;32m     <a href='vscode-notebook-cell:/c%3A/Users/USER/Desktop/CIT_PYTHON/Week%205/Tuesday/oopbasic.ipynb#W4sZmlsZQ%3D%3D?line=30'>31</a>\u001b[0m     \u001b[39mdef\u001b[39;00m \u001b[39m__repr__\u001b[39m(\u001b[39mself\u001b[39m) \u001b[39m-\u001b[39m\u001b[39m>\u001b[39m \u001b[39mstr\u001b[39m:\n\u001b[0;32m     <a href='vscode-notebook-cell:/c%3A/Users/USER/Desktop/CIT_PYTHON/Week%205/Tuesday/oopbasic.ipynb#W4sZmlsZQ%3D%3D?line=31'>32</a>\u001b[0m         \u001b[39mreturn\u001b[39;00m \u001b[39mf\u001b[39m\u001b[39m\"\u001b[39m\u001b[39m<Car: \u001b[39m\u001b[39m{\u001b[39;00m\u001b[39mself\u001b[39m\u001b[39m.\u001b[39mmodel\u001b[39m}\u001b[39;00m\u001b[39m, \u001b[39m\u001b[39m{\u001b[39;00m\u001b[39mself\u001b[39m\u001b[39m.\u001b[39mcolor\u001b[39m}\u001b[39;00m\u001b[39m, \u001b[39m\u001b[39m{\u001b[39;00m\u001b[39mself\u001b[39m\u001b[39m.\u001b[39mbrand\u001b[39m}\u001b[39;00m\u001b[39m, \u001b[39m\u001b[39m{\u001b[39;00m\u001b[39mself\u001b[39m\u001b[39m.\u001b[39mprice\u001b[39m}\u001b[39;00m\u001b[39m, \u001b[39m\u001b[39m{\u001b[39;00m\u001b[39mself\u001b[39m\u001b[39m.\u001b[39mid\u001b[39m}\u001b[39;00m\u001b[39m\"\u001b[39m\n\u001b[1;32m---> <a href='vscode-notebook-cell:/c%3A/Users/USER/Desktop/CIT_PYTHON/Week%205/Tuesday/oopbasic.ipynb#W4sZmlsZQ%3D%3D?line=33'>34</a>\u001b[0m range_rover \u001b[39m=\u001b[39m Car(\u001b[39m'\u001b[39;49m\u001b[39mRnage rover sport\u001b[39;49m\u001b[39m'\u001b[39;49m, \u001b[39m'\u001b[39;49m\u001b[39mred\u001b[39;49m\u001b[39m'\u001b[39;49m, \u001b[39m'\u001b[39;49m\u001b[39mRange Rover\u001b[39;49m\u001b[39m'\u001b[39;49m, \u001b[39m20000\u001b[39;49m)\n\u001b[0;32m     <a href='vscode-notebook-cell:/c%3A/Users/USER/Desktop/CIT_PYTHON/Week%205/Tuesday/oopbasic.ipynb#W4sZmlsZQ%3D%3D?line=34'>35</a>\u001b[0m range_rover\u001b[39m.\u001b[39mupdate_price(\u001b[39m217000\u001b[39m)\n",
      "\u001b[1;32mc:\\Users\\USER\\Desktop\\CIT_PYTHON\\Week 5\\Tuesday\\oopbasic.ipynb Cell 4\u001b[0m in \u001b[0;36mCar.__init__\u001b[1;34m(self, model, color, brand, price)\u001b[0m\n\u001b[0;32m      <a href='vscode-notebook-cell:/c%3A/Users/USER/Desktop/CIT_PYTHON/Week%205/Tuesday/oopbasic.ipynb#W4sZmlsZQ%3D%3D?line=8'>9</a>\u001b[0m \u001b[39mself\u001b[39m\u001b[39m.\u001b[39mbrand \u001b[39m=\u001b[39m brand\n\u001b[0;32m     <a href='vscode-notebook-cell:/c%3A/Users/USER/Desktop/CIT_PYTHON/Week%205/Tuesday/oopbasic.ipynb#W4sZmlsZQ%3D%3D?line=9'>10</a>\u001b[0m \u001b[39mself\u001b[39m\u001b[39m.\u001b[39mprice \u001b[39m=\u001b[39m price\n\u001b[1;32m---> <a href='vscode-notebook-cell:/c%3A/Users/USER/Desktop/CIT_PYTHON/Week%205/Tuesday/oopbasic.ipynb#W4sZmlsZQ%3D%3D?line=10'>11</a>\u001b[0m \u001b[39mself\u001b[39m\u001b[39m.\u001b[39mid_number \u001b[39m=\u001b[39m \u001b[39mself\u001b[39;49m\u001b[39m.\u001b[39;49mcreate_unique_id()\n",
      "\u001b[1;31mAttributeError\u001b[0m: 'Car' object has no attribute 'create_unique_id'"
     ]
    }
   ],
   "source": [
    "import random\n",
    "\n",
    "\n",
    "class Car:\n",
    "\n",
    "    def __init__(self, model, color, brand, price):\n",
    "        self.model = model\n",
    "        self.color = color\n",
    "        self.brand = brand\n",
    "        self.price = price\n",
    "        self.id_number = self.create_unique_id()\n",
    "\n",
    "    def create_uninque_id(self):\n",
    "        ids = []\n",
    "        id = random.randint(1, 10000000)\n",
    "        if id not in ids:\n",
    "           ids.append(id) \n",
    "\n",
    "        return id\n",
    "        \n",
    "    def move(self):\n",
    "        print(f\"{self.brand} is moving...\")\n",
    "\n",
    "    def stop(self):\n",
    "        print(f\"{self.brand} has stopped\")\n",
    "\n",
    "    def update_price(self, price):\n",
    "        self.price = price\n",
    "        print(f\"Price of {self.brand} updated to {self.price}\")\n",
    "\n",
    "    def __repr__(self) -> str:\n",
    "        return f\"<Car: {self.model}, {self.color}, {self.brand}, {self.price}, {self.id}\"\n",
    "\n",
    "range_rover = Car('Rnage rover sport', 'red', 'Range Rover', 20000)\n",
    "range_rover.update_price(217000)\n"
   ]
  },
  {
   "cell_type": "code",
   "execution_count": 15,
   "metadata": {},
   "outputs": [
    {
     "data": {
      "text/plain": [
       "'My donkey'"
      ]
     },
     "execution_count": 15,
     "metadata": {},
     "output_type": "execute_result"
    }
   ],
   "source": [
    "class Animal:\n",
    "    def __init__(this_animal, name) -> None:\n",
    "        this_animal.name = name\n",
    "\n",
    "donkey = Animal(\"My donkey\")\n",
    "donkey.name"
   ]
  },
  {
   "cell_type": "code",
   "execution_count": 1,
   "metadata": {},
   "outputs": [
    {
     "ename": "NameError",
     "evalue": "name 'tur' is not defined",
     "output_type": "error",
     "traceback": [
      "\u001b[1;31m---------------------------------------------------------------------------\u001b[0m",
      "\u001b[1;31mNameError\u001b[0m                                 Traceback (most recent call last)",
      "\u001b[1;32mc:\\Users\\USER\\Desktop\\CIT_PYTHON\\Week 5\\Tuesday\\oopbasic.ipynb Cell 6\u001b[0m in \u001b[0;36m<cell line: 19>\u001b[1;34m()\u001b[0m\n\u001b[0;32m     <a href='vscode-notebook-cell:/c%3A/Users/USER/Desktop/CIT_PYTHON/Week%205/Tuesday/oopbasic.ipynb#W6sZmlsZQ%3D%3D?line=16'>17</a>\u001b[0m earth \u001b[39m=\u001b[39m Celestial_body(\u001b[39m'\u001b[39m\u001b[39mPlanet\u001b[39m\u001b[39m'\u001b[39m, \u001b[39m3.6729e-10\u001b[39m, \u001b[39m0\u001b[39m, \u001b[39mTrue\u001b[39;00m)\n\u001b[0;32m     <a href='vscode-notebook-cell:/c%3A/Users/USER/Desktop/CIT_PYTHON/Week%205/Tuesday/oopbasic.ipynb#W6sZmlsZQ%3D%3D?line=17'>18</a>\u001b[0m andromeda \u001b[39m=\u001b[39m Celestial_body(\u001b[39m'\u001b[39m\u001b[39mGalaxy\u001b[39m\u001b[39m'\u001b[39m,\u001b[39m152_000\u001b[39m, \u001b[39m2.5\u001b[39m, \u001b[39mNone\u001b[39;00m ) \n\u001b[1;32m---> <a href='vscode-notebook-cell:/c%3A/Users/USER/Desktop/CIT_PYTHON/Week%205/Tuesday/oopbasic.ipynb#W6sZmlsZQ%3D%3D?line=18'>19</a>\u001b[0m earth\u001b[39m.\u001b[39;49morbit()\n",
      "\u001b[1;32mc:\\Users\\USER\\Desktop\\CIT_PYTHON\\Week 5\\Tuesday\\oopbasic.ipynb Cell 6\u001b[0m in \u001b[0;36mCelestial_body.orbit\u001b[1;34m(self)\u001b[0m\n\u001b[0;32m     <a href='vscode-notebook-cell:/c%3A/Users/USER/Desktop/CIT_PYTHON/Week%205/Tuesday/oopbasic.ipynb#W6sZmlsZQ%3D%3D?line=13'>14</a>\u001b[0m \u001b[39mdef\u001b[39;00m \u001b[39morbit\u001b[39m(\u001b[39mself\u001b[39m):\n\u001b[1;32m---> <a href='vscode-notebook-cell:/c%3A/Users/USER/Desktop/CIT_PYTHON/Week%205/Tuesday/oopbasic.ipynb#W6sZmlsZQ%3D%3D?line=14'>15</a>\u001b[0m    \u001b[39mreturn\u001b[39;00m tur\u001b[39m.\u001b[39mcircle(\u001b[39m90\u001b[39m)\n",
      "\u001b[1;31mNameError\u001b[0m: name 'tur' is not defined"
     ]
    }
   ],
   "source": [
    "\n",
    "import turtle\n",
    "  \n",
    "class Celestial_body:\n",
    "\n",
    "    def __init__(self, type, size, distance_from_earth, habitable):\n",
    "        self.type = type\n",
    "        self.size = size\n",
    "        self.distance_from_earth = distance_from_earth\n",
    "        self.habitable = habitable\n",
    "\n",
    "    def __repr__(self) -> str:\n",
    "        return f\"Celestial Body:\\n  Type -> {self.type}\\n  Size -> {self.size}\\n  Distance from earth -> {self.distance_from_earth}\\n  Habitability -> {self.habitable}\"\n",
    "\n",
    "    def orbit(self):\n",
    "       return turtle.circle(90)\n",
    "\n",
    "earth = Celestial_body('Planet', 3.6729e-10, 0, True)\n",
    "andromeda = Celestial_body('Galaxy',152_000, 2.5, None ) \n",
    "earth.orbit()              "
   ]
  }
 ],
 "metadata": {
  "kernelspec": {
   "display_name": "Python 3.10.7 64-bit",
   "language": "python",
   "name": "python3"
  },
  "language_info": {
   "codemirror_mode": {
    "name": "ipython",
    "version": 3
   },
   "file_extension": ".py",
   "mimetype": "text/x-python",
   "name": "python",
   "nbconvert_exporter": "python",
   "pygments_lexer": "ipython3",
   "version": "3.10.7"
  },
  "orig_nbformat": 4,
  "vscode": {
   "interpreter": {
    "hash": "df95319d8ce4e1d89f5365ae10992bc1f65da593082b1d264e8f529830ec2f02"
   }
  }
 },
 "nbformat": 4,
 "nbformat_minor": 2
}
