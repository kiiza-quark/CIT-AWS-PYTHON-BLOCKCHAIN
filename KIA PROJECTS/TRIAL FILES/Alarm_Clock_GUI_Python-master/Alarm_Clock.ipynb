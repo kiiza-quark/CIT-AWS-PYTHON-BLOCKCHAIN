{
 "cells": [
  {
   "cell_type": "code",
   "execution_count": 2,
   "metadata": {},
   "outputs": [
    {
     "name": "stdout",
     "output_type": "stream",
     "text": [
      "The Set Date is: 10:17:00\n",
      "10:16:15\n",
      "10:16:16\n",
      "10:16:17\n",
      "10:16:18\n",
      "10:16:19\n",
      "10:16:20\n",
      "10:16:21\n",
      "10:16:22\n",
      "10:16:23\n"
     ]
    }
   ],
   "source": [
    "\n",
    "#Importing all the necessary libraries to for the alarm clock:\n",
    "from tkinter import *\n",
    "import datetime\n",
    "import time\n",
    "import winsound\n",
    "\n",
    "#Defining the While loop for the alarm\n",
    "def alarm(set_alarm_timer):\n",
    "    print(\"The Set Date is:\",set_alarm_timer)\n",
    "    \n",
    "    while True:\n",
    "        time.sleep(1)\n",
    "        current_time = datetime.datetime.now()\n",
    "        now = current_time.strftime(\"%H:%M:%S\")\n",
    "        print(now)\n",
    "        if now == set_alarm_timer:\n",
    "            winsound.PlaySound(\"audio\", winsound.SND_FILENAME)\n",
    "            alert_screen = Tk()\n",
    "            alert_screen.geometry(\"300x150\")\n",
    "            alert = Label(alert_screen, text=\"Time's Up!\", fg=\"red\", font=('Comic Sans MS', 25))\n",
    "            alert.place(x=25,y=45)\n",
    "            alert_screen.mainloop()\n",
    "\n",
    "            break\n",
    "\n",
    "def actual_time():\n",
    "    set_alarm_timer = f\"{hour.get()}:{min.get()}:{sec.get()}\"\n",
    "    alarm(set_alarm_timer)\n",
    "\n",
    "clock = Tk()\n",
    "clock.title(\"ALARM CLOCK\")\n",
    "\n",
    "clock.geometry(\"400x200\")\n",
    "time_format=Label(clock, text= \"Enter time in 24 hour format\", font=('Comic Sans MS', 15))\n",
    "time_format.place(x=60,y=120)\n",
    "addTime = Label(clock,text = \"Hour          Min          Sec\",font=('Comic Sans MS', 15)).place(x = 50)\n",
    "\n",
    "# The Variables we require to set the alarm(initialization):\n",
    "hour = StringVar()\n",
    "min = StringVar()\n",
    "sec = StringVar()\n",
    "\n",
    "#Time required to set the alarm clock:\n",
    "hourTime= Entry(clock, textvariable = hour, font=('Comic Sans MS', 15), bg = \"pink\",width = 15).place(x=25,y=30)\n",
    "minTime= Entry(clock, textvariable = min, font=('Comic Sans MS', 15), bg = \"pink\",width = 15).place(x=125,y=30)\n",
    "secTime = Entry(clock, textvariable = sec, font=('Comic Sans MS', 15), bg = \"pink\",width = 15).place(x=220,y=30)\n",
    "\n",
    "#To take the time input by user:\n",
    "submit = Button(clock,text = \"Set Alarm\",font=('Comic Sans MS', 15), fg=\"orange\",width = 10,command = actual_time).place(x =110,y=70)\n",
    "\n",
    "clock.mainloop()"
   ]
  }
 ],
 "metadata": {
  "kernelspec": {
   "display_name": "Python 3.10.7 64-bit",
   "language": "python",
   "name": "python3"
  },
  "language_info": {
   "codemirror_mode": {
    "name": "ipython",
    "version": 3
   },
   "file_extension": ".py",
   "mimetype": "text/x-python",
   "name": "python",
   "nbconvert_exporter": "python",
   "pygments_lexer": "ipython3",
   "version": "3.10.7"
  },
  "vscode": {
   "interpreter": {
    "hash": "df95319d8ce4e1d89f5365ae10992bc1f65da593082b1d264e8f529830ec2f02"
   }
  }
 },
 "nbformat": 4,
 "nbformat_minor": 4
}
