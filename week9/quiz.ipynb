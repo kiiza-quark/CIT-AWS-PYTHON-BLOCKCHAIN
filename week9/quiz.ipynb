{
 "cells": [
  {
   "cell_type": "markdown",
   "metadata": {},
   "source": [
    "### End of week 9 quiz\n"
   ]
  },
  {
   "cell_type": "markdown",
   "metadata": {},
   "source": [
    "\n",
    "1. Find top movies on IMDB since 1980 using web scraping and save the result in a csv file. The csv file should have the following columns: title, year, rating, metascore, votes, gross, director, actors, runtime, genre, description. The csv file should be sorted by rating in descending order. The csv file should have the following columns: title, year, rating, metascore, votes, gross, director, actors, runtime, genre, description. The csv file should be sorted by rating in descending order.\n",
    "\n"
   ]
  },
  {
   "cell_type": "code",
   "execution_count": null,
   "metadata": {},
   "outputs": [],
   "source": [
    "import requests\n",
    "from bs4 import BeautifulSoup\n",
    "import csv\n",
    "\n",
    "url = \"https://www.imdb.com/list/ls000578090/\"\n",
    "text_data = requests.get(url).text\n",
    "\n",
    "doc = BeautifulSoup(text_data, \"html.parser\")\n",
    "\n",
    "movies = doc.find_all(\"div\", class_=\"lister-item mode-detail\")\n",
    "\n",
    "field_names = [\"title\", \"description\", \"genre\", \"year\", \"rating\", \"metascore\", \"gross\", \"runtime\", \"votes\", \"actors\"]\n",
    "\n",
    "list_data = []\n",
    "\n",
    "for movie in movies:\n",
    "    header_data = movie.find(\"div\", class_=\"lister-item-header\")\n",
    "    gross_vote = movie.find(\"p\", class_=\"text-muted text-small\").find_all(\"span\")\n",
    "    actors = movie.find(\"p\", class_=\"text-muted text-small\")\n",
    "    title = header_data.find(\"a\").text\n",
    "    year = header_data.find(\"span\", class_=\"lister-item-year text-muted unbold\").text\n",
    "    rating =  movie.find(\"span\", class_=\"ipl-rating-star-rating\").text\n",
    "    metascore = movie.find(\"span\", class_=\"metascore favorable\").text\n",
    "    votes = gross_vote[1].text\n",
    "    gross = gross_vote[4].text\n",
    "    actors = actors[1:]\n",
    "    runtime = movie.find(\"span\", class_=\"runtime\").text\n",
    "    genre = movie.find(\"span\", class_=\"genre\").text\n",
    "    description = movie.find(\"p\", class_=\"\").text\n",
    "    \n",
    "    list_data.append({\"title\": title, \"description\": description, \"genre\": genre, \"year\": year, \"rating\": rating, \"metascore\": metascore, \"gross\": gross, \"runtime\":runtime,\"votes\":votes, \"actors\": actors})\n",
    "\n",
    "\n",
    "with open('movies.csv', \"w\") as file:\n",
    "    writer = csv.DictWriter(file, fieldnames=field_names)\n",
    "    writer.writeheader()\n",
    "    writer.writerows(list_data)\n"
   ]
  },
  {
   "cell_type": "markdown",
   "metadata": {},
   "source": [
    "2. Scrap Hacker News project and save the result in a csv file. The csv file should have the following columns: title, link, points, comments, author, rank. The csv file should be sorted by rank in ascending order."
   ]
  },
  {
   "cell_type": "code",
   "execution_count": 2,
   "metadata": {},
   "outputs": [],
   "source": [
    "import requests\n",
    "from bs4 import BeautifulSoup\n",
    "import csv\n",
    "\n",
    "url = \"\"\n",
    "text_data = \"\""
   ]
  }
 ],
 "metadata": {
  "kernelspec": {
   "display_name": "Python 3.10.7 64-bit",
   "language": "python",
   "name": "python3"
  },
  "language_info": {
   "codemirror_mode": {
    "name": "ipython",
    "version": 3
   },
   "file_extension": ".py",
   "mimetype": "text/x-python",
   "name": "python",
   "nbconvert_exporter": "python",
   "pygments_lexer": "ipython3",
   "version": "3.10.7"
  },
  "orig_nbformat": 4,
  "vscode": {
   "interpreter": {
    "hash": "df95319d8ce4e1d89f5365ae10992bc1f65da593082b1d264e8f529830ec2f02"
   }
  }
 },
 "nbformat": 4,
 "nbformat_minor": 2
}
