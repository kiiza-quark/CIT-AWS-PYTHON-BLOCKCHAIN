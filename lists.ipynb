{
 "cells": [
  {
   "cell_type": "markdown",
   "metadata": {},
   "source": [
    "## LISTS"
   ]
  },
  {
   "cell_type": "code",
   "execution_count": 1,
   "metadata": {},
   "outputs": [
    {
     "data": {
      "text/plain": [
       "'Cherry'"
      ]
     },
     "execution_count": 1,
     "metadata": {},
     "output_type": "execute_result"
    }
   ],
   "source": [
    "my_list = [\"Apple\", \"Banana\", \"Cherry\"]\n",
    "\n",
    "# first item in the list\n",
    "my_list[0] # Apple\n",
    "\n",
    "# second item in the list\n",
    "my_list[1] # Banana\n",
    "\n",
    "# third item in the list\n",
    "my_list[2] # Cherry\n",
    "\n",
    "# last item in the list\n",
    "my_list[-1] # Cherry\n",
    "\n",
    "nested_list = [\"Apple\", [\"Banana\", \"Cherry\"], \"Durian\"]\n",
    "\n",
    "# first item in the list\n",
    "nested_list[0] # Apple\n",
    "\n",
    "# second item in the list\n",
    "nested_list[1] # [\"Banana\", \"Cherry\"]\n",
    "\n",
    "# first item in the nested list\n",
    "nested_list[1][0] # Banana\n",
    "\n",
    "# second item in the nested list\n",
    "nested_list[1][1] # Cherry"
   ]
  },
  {
   "cell_type": "code",
   "execution_count": 2,
   "metadata": {},
   "outputs": [
    {
     "data": {
      "text/plain": [
       "'Cherry'"
      ]
     },
     "execution_count": 2,
     "metadata": {},
     "output_type": "execute_result"
    }
   ],
   "source": [
    "my_list = [\"Apple\", \"Banana\", \"Cherry\"]\n",
    "\n",
    "# first item in the list\n",
    "my_list[-3] # Apple\n",
    "\n",
    "# second item in the list\n",
    "my_list[-2] # Banana\n",
    "\n",
    "# third item in the list\n",
    "my_list[-1] # Cherry"
   ]
  },
  {
   "cell_type": "code",
   "execution_count": 3,
   "metadata": {},
   "outputs": [
    {
     "data": {
      "text/plain": [
       "['t', 'h', 'o']"
      ]
     },
     "execution_count": 3,
     "metadata": {},
     "output_type": "execute_result"
    }
   ],
   "source": [
    "# list slicing\n",
    "my_list = [\"P\", \"y\", \"t\", \"h\", \"o\", \"n\"]\n",
    "\n",
    "# elements from index 2 to index 4\n",
    "my_list[2:5] # ['t', 'h', 'o']"
   ]
  },
  {
   "cell_type": "code",
   "execution_count": 4,
   "metadata": {},
   "outputs": [
    {
     "data": {
      "text/plain": [
       "['t', 'h', 'o', 'n']"
      ]
     },
     "execution_count": 4,
     "metadata": {},
     "output_type": "execute_result"
    }
   ],
   "source": [
    "# list slicing\n",
    "my_list = [\"P\", \"y\", \"t\", \"h\", \"o\", \"n\"]\n",
    "\n",
    "# elements from index 2 to the end\n",
    "my_list[2:] # ['t', 'h', 'o', 'n']"
   ]
  },
  {
   "cell_type": "code",
   "execution_count": 5,
   "metadata": {},
   "outputs": [
    {
     "data": {
      "text/plain": [
       "['P', 'y', 't', 'h', 'o', 'n']"
      ]
     },
     "execution_count": 5,
     "metadata": {},
     "output_type": "execute_result"
    }
   ],
   "source": [
    "# list slicing\n",
    "my_list = [\"P\", \"y\", \"t\", \"h\", \"o\", \"n\"]\n",
    "\n",
    "# elements from the beginning to the end\n",
    "my_list[:] # ['P', 'y', 't', 'h', 'o', 'n']"
   ]
  },
  {
   "cell_type": "code",
   "execution_count": 6,
   "metadata": {},
   "outputs": [
    {
     "name": "stdout",
     "output_type": "stream",
     "text": [
      "[1, 4, 6, 8]\n",
      "[1, 3, 5, 7]\n"
     ]
    }
   ],
   "source": [
    "# Correcting mistake values in a list\n",
    "odd = [2, 4, 6, 8]\n",
    "\n",
    "# change the value of the first item in the list\n",
    "odd[0] = 1\n",
    "\n",
    "print(odd) # [1, 4, 6, 8]\n",
    "\n",
    "# change 2nd to 4th items\n",
    "odd[1:4] = [3, 5, 7]\n",
    "\n",
    "print(odd) # [1, 3, 5, 7, 8]"
   ]
  },
  {
   "cell_type": "code",
   "execution_count": 7,
   "metadata": {},
   "outputs": [
    {
     "name": "stdout",
     "output_type": "stream",
     "text": [
      "['Apple', 'Banana', 'Cherry', 'Durian']\n",
      "['Apple', 'Banana', 'Cherry', 'Durian', 'Mango', 'Orange']\n"
     ]
    }
   ],
   "source": [
    "fruits = [\"Apple\", \"Banana\", \"Cherry\"]\n",
    "\n",
    "# add one item to the end of the list\n",
    "fruits.append(\"Durian\")\n",
    "\n",
    "print(fruits) # ['Apple', 'Banana', 'Cherry', 'Durian']\n",
    "\n",
    "# add several items to the end of the list\n",
    "fruits.extend([\"Mango\", \"Orange\"])\n",
    "\n",
    "print(fruits) # ['Apple', 'Banana', 'Cherry', 'Durian', 'Mango', 'Orange']"
   ]
  },
  {
   "cell_type": "code",
   "execution_count": 8,
   "metadata": {},
   "outputs": [
    {
     "name": "stdout",
     "output_type": "stream",
     "text": [
      "[2, 4, 6, 8, 2, 4, 6, 8, 2, 4, 6, 8]\n"
     ]
    }
   ],
   "source": [
    "# repeat a list for 3 times\n",
    "even = [2, 4, 6, 8]\n",
    "\n",
    "print(even * 3) # [2, 4, 6, 8, 2, 4, 6, 8, 2, 4, 6, 8]\n",
    "\n",
    "odd = [1, 3, 5, 7]\n",
    "\n",
    "numbers = even + odd # [2, 4, 6, 8, 1, 3, 5, 7]"
   ]
  },
  {
   "cell_type": "code",
   "execution_count": 9,
   "metadata": {},
   "outputs": [
    {
     "name": "stdout",
     "output_type": "stream",
     "text": [
      "['Apple', 'Banana', 'Durian', 'Cherry']\n",
      "['Apple', 'Banana', ['Mango', 'Orange'], 'Durian', 'Cherry']\n"
     ]
    }
   ],
   "source": [
    "fruits = [\"Apple\", \"Banana\", \"Cherry\"]\n",
    "\n",
    "# insert one item at index 2\n",
    "fruits.insert(2, \"Durian\")\n",
    "\n",
    "print(fruits) # ['Apple', 'Banana', 'Durian', 'Cherry']\n",
    "\n",
    "# insert multiple items at index 2\n",
    "fruits.insert(2, [\"Mango\", \"Orange\"])\n",
    "\n",
    "print(fruits) # ['Apple', 'Banana', 'Mango', 'Orange', 'Durian', 'Cherry']"
   ]
  },
  {
   "cell_type": "code",
   "execution_count": 13,
   "metadata": {},
   "outputs": [
    {
     "data": {
      "text/plain": [
       "['Cherry', 'Banana', 'Apple']"
      ]
     },
     "execution_count": 13,
     "metadata": {},
     "output_type": "execute_result"
    }
   ],
   "source": [
    "fruits = [\"Apple\", \"Banana\", \"Cherry\"]\n",
    "fruits[::-1]"
   ]
  },
  {
   "cell_type": "code",
   "execution_count": 14,
   "metadata": {},
   "outputs": [
    {
     "name": "stdout",
     "output_type": "stream",
     "text": [
      "1\n",
      "['Apple', 'Banana', 'Cherry', 'Durian', 'Mango', 'Orange', 'Kiwi']\n",
      "5\n"
     ]
    }
   ],
   "source": [
    "# Example on Python list methods\n",
    "fruits = [\"Apple\", \"Banana\", \"Cherry\", \"Durian\", \"Mango\", \"Orange\"]\n",
    "\n",
    "print(fruits.count(\"Apple\")) # 1\n",
    "\n",
    "# Add fruit to the end\n",
    "fruits.append(\"Kiwi\")\n",
    "\n",
    "print(fruits) # ['Apple', 'Banana', 'Cherry', 'Durian', 'Mango', 'Orange', 'Kiwi']\n",
    "\n",
    "# Index of first occurrence of \"Orange\"\n",
    "print(fruits.index(\"Orange\")) # 5"
   ]
  },
  {
   "cell_type": "code",
   "execution_count": 17,
   "metadata": {},
   "outputs": [
    {
     "name": "stdout",
     "output_type": "stream",
     "text": [
      "Mercury is at position 0 from the sum\n"
     ]
    },
    {
     "data": {
      "text/plain": [
       "['mercury',\n",
       " 'venus',\n",
       " 'earth',\n",
       " 'mars',\n",
       " 'jupiter',\n",
       " 'saturn',\n",
       " 'neptune',\n",
       " 'neptune',\n",
       " 'pluto']"
      ]
     },
     "execution_count": 17,
     "metadata": {},
     "output_type": "execute_result"
    }
   ],
   "source": [
    "planets = [\"mercury\",\"venus\",\"earth\",\"mars\",\"jupiter\",\"saturn\",\"neptune\",\"neptune\"]\n",
    "\n",
    "print(f\"Mercury is at position {planets.index('mercury')} from the sum\")\n",
    "planets.append(\"pluto\")\n",
    "planets"
   ]
  },
  {
   "cell_type": "code",
   "execution_count": 29,
   "metadata": {},
   "outputs": [
    {
     "data": {
      "text/plain": [
       "['earth',\n",
       " 'jupiter',\n",
       " 'mars',\n",
       " 'mercury',\n",
       " 'neptune',\n",
       " 'neptune',\n",
       " 'saturn',\n",
       " 'venus']"
      ]
     },
     "execution_count": 29,
     "metadata": {},
     "output_type": "execute_result"
    }
   ],
   "source": [
    "planets = [\"mercury\",\"venus\",\"earth\",\"mars\",\"jupiter\",\"saturn\",\"neptune\",\"neptune\"]\n",
    "moons = [(\"earth\",\"moon\"),(\"jupiter\",\"io\",\"europa\",\"mimas\"),(\"saturn\",\"dione\")]\n",
    "# planets.extend(moons)\n",
    "planets.sort(key=None, reverse=False)\n",
    "planets"
   ]
  },
  {
   "cell_type": "code",
   "execution_count": 30,
   "metadata": {},
   "outputs": [
    {
     "name": "stdout",
     "output_type": "stream",
     "text": [
      "[1, 2, 4, 8, 16, 32, 64, 128, 256, 512]\n"
     ]
    }
   ],
   "source": [
    "powers = []\n",
    "\n",
    "for x in range(10):\n",
    "    powers.append(2 ** x)\n",
    "\n",
    "print(powers) # [1, 2, 4, 8, 16, 32, 64, 128, 256, 512]"
   ]
  },
  {
   "cell_type": "code",
   "execution_count": 31,
   "metadata": {},
   "outputs": [
    {
     "name": "stdout",
     "output_type": "stream",
     "text": [
      "[1, 16, 256]\n",
      "[[], [0], [0, 1]]\n"
     ]
    }
   ],
   "source": [
    "# make a list with each item being increasing power of 2 if divisible by 4\n",
    "powers = [2 ** x for x in range(10) if x % 4 == 0]\n",
    "\n",
    "print(powers) # [16, 32, 64, 128]\n",
    "\n",
    "# a list of odd numbers\n",
    "odds = [x for x in range(10) if x % 2 == 1]\n",
    "\n",
    "# nested list comprehension\n",
    "matrix = [[x for x in range(y)] for y in range(3)]\n",
    "\n",
    "print(matrix) # [[], [0], [0, 1]]"
   ]
  },
  {
   "cell_type": "code",
   "execution_count": 33,
   "metadata": {},
   "outputs": [
    {
     "data": {
      "text/plain": [
       "[[],\n",
       " [0],\n",
       " [0, 1],\n",
       " [0, 1, 2],\n",
       " [0, 1, 2, 3],\n",
       " [0, 1, 2, 3, 4],\n",
       " [0, 1, 2, 3, 4, 5],\n",
       " [0, 1, 2, 3, 4, 5, 6],\n",
       " [0, 1, 2, 3, 4, 5, 6, 7],\n",
       " [0, 1, 2, 3, 4, 5, 6, 7, 8]]"
      ]
     },
     "execution_count": 33,
     "metadata": {},
     "output_type": "execute_result"
    }
   ],
   "source": [
    "growing_matrix = [[n for n in range(m)] for m in range(10)]\n",
    "growing_matrix"
   ]
  },
  {
   "cell_type": "code",
   "execution_count": 35,
   "metadata": {},
   "outputs": [
    {
     "data": {
      "text/plain": [
       "[[0, 1, 2, 3, 4, 5, 6, 7, 8, 9],\n",
       " [0, 1, 2, 3, 4, 5, 6, 7, 8, 9],\n",
       " [0, 1, 2, 3, 4, 5, 6, 7, 8, 9],\n",
       " [0, 1, 2, 3, 4, 5, 6, 7, 8, 9],\n",
       " [0, 1, 2, 3, 4, 5, 6, 7, 8, 9],\n",
       " [0, 1, 2, 3, 4, 5, 6, 7, 8, 9],\n",
       " [0, 1, 2, 3, 4, 5, 6, 7, 8, 9],\n",
       " [0, 1, 2, 3, 4, 5, 6, 7, 8, 9],\n",
       " [0, 1, 2, 3, 4, 5, 6, 7, 8, 9],\n",
       " [0, 1, 2, 3, 4, 5, 6, 7, 8, 9]]"
      ]
     },
     "execution_count": 35,
     "metadata": {},
     "output_type": "execute_result"
    }
   ],
   "source": [
    "matrix = [[x for x in range(10)] for y in range(10)]\n",
    "matrix"
   ]
  },
  {
   "cell_type": "code",
   "execution_count": 39,
   "metadata": {},
   "outputs": [
    {
     "data": {
      "text/plain": [
       "[[0, 1, 2, 3, 4, 5, 6, 7, 8, 9],\n",
       " [0, 1, 2, 3, 4, 5, 6, 7, 8],\n",
       " [0, 1, 2, 3, 4, 5, 6, 7],\n",
       " [0, 1, 2, 3, 4, 5, 6],\n",
       " [0, 1, 2, 3, 4, 5],\n",
       " [0, 1, 2, 3, 4],\n",
       " [0, 1, 2, 3],\n",
       " [0, 1, 2],\n",
       " [0, 1],\n",
       " [0]]"
      ]
     },
     "execution_count": 39,
     "metadata": {},
     "output_type": "execute_result"
    }
   ],
   "source": [
    "reverse_growing_matrix = [[n for n in range(m)] for m in range(10,0,-1)]\n",
    "reverse_growing_matrix"
   ]
  },
  {
   "cell_type": "code",
   "execution_count": 42,
   "metadata": {},
   "outputs": [
    {
     "ename": "ValueError",
     "evalue": "'neptune' is not in list",
     "output_type": "error",
     "traceback": [
      "\u001b[1;31m---------------------------------------------------------------------------\u001b[0m",
      "\u001b[1;31mValueError\u001b[0m                                Traceback (most recent call last)",
      "\u001b[1;32mc:\\Users\\USER\\Desktop\\CIT_PYTHON\\lists.ipynb Cell 20\u001b[0m in \u001b[0;36m<cell line: 3>\u001b[1;34m()\u001b[0m\n\u001b[0;32m      <a href='vscode-notebook-cell:/c%3A/Users/USER/Desktop/CIT_PYTHON/lists.ipynb#X26sZmlsZQ%3D%3D?line=2'>3</a>\u001b[0m \u001b[39mwhile\u001b[39;00m planets:\n\u001b[0;32m      <a href='vscode-notebook-cell:/c%3A/Users/USER/Desktop/CIT_PYTHON/lists.ipynb#X26sZmlsZQ%3D%3D?line=3'>4</a>\u001b[0m     planet \u001b[39m=\u001b[39m planets\u001b[39m.\u001b[39mpop()\n\u001b[1;32m----> <a href='vscode-notebook-cell:/c%3A/Users/USER/Desktop/CIT_PYTHON/lists.ipynb#X26sZmlsZQ%3D%3D?line=4'>5</a>\u001b[0m     \u001b[39mprint\u001b[39m(\u001b[39mf\u001b[39m\u001b[39m\"\u001b[39m\u001b[39m{\u001b[39;00mplanet\u001b[39m}\u001b[39;00m\u001b[39m is at position \u001b[39m\u001b[39m{\u001b[39;00mplanets\u001b[39m.\u001b[39mindex(planet)\u001b[39m}\u001b[39;00m\u001b[39m from the sun\u001b[39m\u001b[39m\"\u001b[39m)\n",
      "\u001b[1;31mValueError\u001b[0m: 'neptune' is not in list"
     ]
    }
   ],
   "source": [
    "planets = [\"mercury\",\"venus\",\"earth\",\"mars\",\"jupiter\",\"saturn\",\"neptune\"]\n",
    "\n",
    "while planets:\n",
    "    planet = planets.pop()\n",
    "    print(f\"{planet} is at position {planets.index(planet)} from the sun\")\n",
    "    "
   ]
  }
 ],
 "metadata": {
  "kernelspec": {
   "display_name": "Python 3.10.5 64-bit (system)",
   "language": "python",
   "name": "python3"
  },
  "language_info": {
   "codemirror_mode": {
    "name": "ipython",
    "version": 3
   },
   "file_extension": ".py",
   "mimetype": "text/x-python",
   "name": "python",
   "nbconvert_exporter": "python",
   "pygments_lexer": "ipython3",
   "version": "3.10.6"
  },
  "orig_nbformat": 4,
  "vscode": {
   "interpreter": {
    "hash": "2d11fb966e7497af3002efb31ab1224576268d28484758187706c1533c7661ce"
   }
  }
 },
 "nbformat": 4,
 "nbformat_minor": 2
}
