{
 "cells": [
  {
   "cell_type": "markdown",
   "metadata": {},
   "source": [
    "## DATA TYPES\n"
   ]
  },
  {
   "cell_type": "markdown",
   "metadata": {},
   "source": [
    "### STRINGS"
   ]
  },
  {
   "cell_type": "code",
   "execution_count": 1,
   "metadata": {},
   "outputs": [
    {
     "name": "stdout",
     "output_type": "stream",
     "text": [
      "I lov\n",
      " Python\n"
     ]
    }
   ],
   "source": [
    "my_string = 'I love Python'\n",
    "print(my_string[0:5]) # prints I lov\n",
    "print(my_string[6:]) # prints Python"
   ]
  },
  {
   "cell_type": "code",
   "execution_count": 2,
   "metadata": {},
   "outputs": [
    {
     "ename": "IndexError",
     "evalue": "string index out of range",
     "output_type": "error",
     "traceback": [
      "\u001b[1;31m---------------------------------------------------------------------------\u001b[0m",
      "\u001b[1;31mIndexError\u001b[0m                                Traceback (most recent call last)",
      "\u001b[1;32mc:\\Users\\USER\\Desktop\\CIT_PYTHON\\data_types.ipynb Cell 4\u001b[0m in \u001b[0;36m<cell line: 2>\u001b[1;34m()\u001b[0m\n\u001b[0;32m      <a href='vscode-notebook-cell:/c%3A/Users/USER/Desktop/CIT_PYTHON/data_types.ipynb#W5sZmlsZQ%3D%3D?line=0'>1</a>\u001b[0m my_string \u001b[39m=\u001b[39m \u001b[39m'\u001b[39m\u001b[39mI love Python\u001b[39m\u001b[39m'\u001b[39m\n\u001b[1;32m----> <a href='vscode-notebook-cell:/c%3A/Users/USER/Desktop/CIT_PYTHON/data_types.ipynb#W5sZmlsZQ%3D%3D?line=1'>2</a>\u001b[0m \u001b[39mprint\u001b[39m(my_string[\u001b[39m15\u001b[39;49m]) \u001b[39m# IndexError: string index out of range\u001b[39;00m\n\u001b[0;32m      <a href='vscode-notebook-cell:/c%3A/Users/USER/Desktop/CIT_PYTHON/data_types.ipynb#W5sZmlsZQ%3D%3D?line=3'>4</a>\u001b[0m \u001b[39mprint\u001b[39m(my_string[\u001b[39m1.5\u001b[39m])\n",
      "\u001b[1;31mIndexError\u001b[0m: string index out of range"
     ]
    }
   ],
   "source": [
    "my_string = 'I love Python'\n",
    "print(my_string[15]) # IndexError: string index out of range\n",
    "\n",
    "print(my_string[1.5]) # TypeError: string indices must be integers"
   ]
  },
  {
   "cell_type": "code",
   "execution_count": 5,
   "metadata": {},
   "outputs": [
    {
     "data": {
      "text/plain": [
       "'ewriibahsn'"
      ]
     },
     "execution_count": 5,
     "metadata": {},
     "output_type": "execute_result"
    }
   ],
   "source": [
    "name = \"nshabiirwe\"\n",
    "\n",
    "len(name)\n",
    "name[-10]\n",
    "name[::-1]"
   ]
  },
  {
   "cell_type": "code",
   "execution_count": 17,
   "metadata": {},
   "outputs": [
    {
     "name": "stdout",
     "output_type": "stream",
     "text": [
      "'\n",
      "Programmers are in a race \n",
      "with the Universe to create \n",
      "bigger and better idiot-proof programs,\n",
      " while the Universe is trying to create bigger and better idiots.  \n",
      " So far the Universe is winning.\n",
      "' was said by Rich Cook \n"
     ]
    }
   ],
   "source": [
    "quote = \"\"\"\n",
    "Programmers are in a race \n",
    "with the Universe to create \n",
    "bigger and better idiot-proof programs,\n",
    " while the Universe is trying to create bigger and better idiots.  \n",
    " So far the Universe is winning.\n",
    "(Rich Cook)\n",
    "\"\"\"\n",
    "\n",
    "reversed = quote[::-1]\n",
    "len(quote)\n",
    "\n",
    "print(f\"'{quote[0:198]}' was said by {quote[-11:-2]} \")"
   ]
  },
  {
   "cell_type": "code",
   "execution_count": 9,
   "metadata": {},
   "outputs": [
    {
     "data": {
      "text/plain": [
       "''"
      ]
     },
     "execution_count": 9,
     "metadata": {},
     "output_type": "execute_result"
    }
   ],
   "source": [
    "s = \"python\"\n",
    "\n",
    "s[-1:2]"
   ]
  },
  {
   "cell_type": "code",
   "execution_count": 14,
   "metadata": {},
   "outputs": [
    {
     "name": "stdout",
     "output_type": "stream",
     "text": [
      "[]\n"
     ]
    }
   ],
   "source": [
    "print(list(range(-1,2,-1)))"
   ]
  },
  {
   "cell_type": "code",
   "execution_count": 18,
   "metadata": {},
   "outputs": [
    {
     "ename": "TypeError",
     "evalue": "'str' object does not support item assignment",
     "output_type": "error",
     "traceback": [
      "\u001b[1;31m---------------------------------------------------------------------------\u001b[0m",
      "\u001b[1;31mTypeError\u001b[0m                                 Traceback (most recent call last)",
      "\u001b[1;32mc:\\Users\\USER\\Desktop\\CIT_PYTHON\\data_types.ipynb Cell 9\u001b[0m in \u001b[0;36m<cell line: 3>\u001b[1;34m()\u001b[0m\n\u001b[0;32m      <a href='vscode-notebook-cell:/c%3A/Users/USER/Desktop/CIT_PYTHON/data_types.ipynb#X13sZmlsZQ%3D%3D?line=0'>1</a>\u001b[0m \u001b[39m# changing a string\u001b[39;00m\n\u001b[0;32m      <a href='vscode-notebook-cell:/c%3A/Users/USER/Desktop/CIT_PYTHON/data_types.ipynb#X13sZmlsZQ%3D%3D?line=1'>2</a>\u001b[0m my_string \u001b[39m=\u001b[39m \u001b[39m'\u001b[39m\u001b[39mHello\u001b[39m\u001b[39m'\u001b[39m\n\u001b[1;32m----> <a href='vscode-notebook-cell:/c%3A/Users/USER/Desktop/CIT_PYTHON/data_types.ipynb#X13sZmlsZQ%3D%3D?line=2'>3</a>\u001b[0m my_string[\u001b[39m0\u001b[39;49m] \u001b[39m=\u001b[39m \u001b[39m'\u001b[39m\u001b[39mP\u001b[39m\u001b[39m'\u001b[39m\n",
      "\u001b[1;31mTypeError\u001b[0m: 'str' object does not support item assignment"
     ]
    }
   ],
   "source": [
    "# changing a string\n",
    "my_string = 'Hello'\n",
    "my_string[0] = 'P' # TypeError: 'str' object does not support item assignment"
   ]
  },
  {
   "cell_type": "code",
   "execution_count": 19,
   "metadata": {},
   "outputs": [
    {
     "ename": "NameError",
     "evalue": "name 'my_string' is not defined",
     "output_type": "error",
     "traceback": [
      "\u001b[1;31m---------------------------------------------------------------------------\u001b[0m",
      "\u001b[1;31mNameError\u001b[0m                                 Traceback (most recent call last)",
      "\u001b[1;32mc:\\Users\\USER\\Desktop\\CIT_PYTHON\\data_types.ipynb Cell 10\u001b[0m in \u001b[0;36m<cell line: 5>\u001b[1;34m()\u001b[0m\n\u001b[0;32m      <a href='vscode-notebook-cell:/c%3A/Users/USER/Desktop/CIT_PYTHON/data_types.ipynb#X14sZmlsZQ%3D%3D?line=1'>2</a>\u001b[0m my_string \u001b[39m=\u001b[39m \u001b[39m'\u001b[39m\u001b[39mHello\u001b[39m\u001b[39m'\u001b[39m\n\u001b[0;32m      <a href='vscode-notebook-cell:/c%3A/Users/USER/Desktop/CIT_PYTHON/data_types.ipynb#X14sZmlsZQ%3D%3D?line=2'>3</a>\u001b[0m \u001b[39mdel\u001b[39;00m my_string \u001b[39m# NameError: name 'my_string' is not defined\u001b[39;00m\n\u001b[1;32m----> <a href='vscode-notebook-cell:/c%3A/Users/USER/Desktop/CIT_PYTHON/data_types.ipynb#X14sZmlsZQ%3D%3D?line=4'>5</a>\u001b[0m \u001b[39mdel\u001b[39;00m my_string[\u001b[39m0\u001b[39m]\n",
      "\u001b[1;31mNameError\u001b[0m: name 'my_string' is not defined"
     ]
    }
   ],
   "source": [
    "# deleting a string\n",
    "my_string = 'Hello'\n",
    "del my_string # NameError: name 'my_string' is not defined\n",
    "\n",
    "del my_string[0] # TypeError: 'str' object doesn't support item deletion"
   ]
  },
  {
   "cell_type": "code",
   "execution_count": 22,
   "metadata": {},
   "outputs": [
    {
     "ename": "NameError",
     "evalue": "name 'str1' is not defined",
     "output_type": "error",
     "traceback": [
      "\u001b[1;31m---------------------------------------------------------------------------\u001b[0m",
      "\u001b[1;31mNameError\u001b[0m                                 Traceback (most recent call last)",
      "\u001b[1;32mc:\\Users\\USER\\Desktop\\CIT_PYTHON\\data_types.ipynb Cell 11\u001b[0m in \u001b[0;36m<cell line: 3>\u001b[1;34m()\u001b[0m\n\u001b[0;32m      <a href='vscode-notebook-cell:/c%3A/Users/USER/Desktop/CIT_PYTHON/data_types.ipynb#X15sZmlsZQ%3D%3D?line=0'>1</a>\u001b[0m str1 \u001b[39m=\u001b[39m \u001b[39m\"\u001b[39m\u001b[39mjames webb\u001b[39m\u001b[39m\"\u001b[39m\n\u001b[0;32m      <a href='vscode-notebook-cell:/c%3A/Users/USER/Desktop/CIT_PYTHON/data_types.ipynb#X15sZmlsZQ%3D%3D?line=1'>2</a>\u001b[0m \u001b[39mdel\u001b[39;00m str1\n\u001b[1;32m----> <a href='vscode-notebook-cell:/c%3A/Users/USER/Desktop/CIT_PYTHON/data_types.ipynb#X15sZmlsZQ%3D%3D?line=2'>3</a>\u001b[0m str1\n",
      "\u001b[1;31mNameError\u001b[0m: name 'str1' is not defined"
     ]
    }
   ],
   "source": [
    "str1 = \"james webb\"\n",
    "del str1\n",
    "str1"
   ]
  },
  {
   "cell_type": "code",
   "execution_count": 31,
   "metadata": {},
   "outputs": [
    {
     "data": {
      "text/plain": [
       "''"
      ]
     },
     "execution_count": 31,
     "metadata": {},
     "output_type": "execute_result"
    }
   ],
   "source": [
    "word = \"pyhton\"\n",
    "\n",
    "word[::-1]\n",
    "word[-1:-2]"
   ]
  },
  {
   "cell_type": "code",
   "execution_count": 33,
   "metadata": {},
   "outputs": [
    {
     "data": {
      "text/plain": [
       "1"
      ]
     },
     "execution_count": 33,
     "metadata": {},
     "output_type": "execute_result"
    }
   ],
   "source": [
    "sstr = \"my string\"\n",
    "n = 0\n",
    "ns = 0\n",
    "while n < len(sstr):\n",
    "    if sstr[n] == \"n\":\n",
    "        ns += 1\n",
    "    n += 1\n",
    "\n",
    "ns"
   ]
  },
  {
   "cell_type": "markdown",
   "metadata": {},
   "source": [
    "### String Operations"
   ]
  },
  {
   "cell_type": "code",
   "execution_count": 34,
   "metadata": {},
   "outputs": [
    {
     "name": "stdout",
     "output_type": "stream",
     "text": [
      "Hello World\n",
      "HelloHelloHello\n"
     ]
    }
   ],
   "source": [
    "# concatenating two strings\n",
    "my_string = 'Hello' + ' ' + 'World'\n",
    "print(my_string) # prints Hello World\n",
    "\n",
    "# repeating a string\n",
    "my_string = 'Hello' * 3\n",
    "print(my_string) # prints HelloHelloHello"
   ]
  },
  {
   "cell_type": "code",
   "execution_count": 35,
   "metadata": {},
   "outputs": [
    {
     "name": "stdout",
     "output_type": "stream",
     "text": [
      "HelloWorld\n"
     ]
    }
   ],
   "source": [
    "# concatenating two strings\n",
    "my_string = ('Hello'  \n",
    "            'World') # parentheses are used to concatenate strings in different lines\n",
    "print(my_string) # prints Hello World"
   ]
  },
  {
   "cell_type": "code",
   "execution_count": 36,
   "metadata": {},
   "outputs": [
    {
     "name": "stdout",
     "output_type": "stream",
     "text": [
      "3\n"
     ]
    }
   ],
   "source": [
    "# counting the number of 'l's in a string\n",
    "my_string = 'Hello World'\n",
    "count = 0\n",
    "for letter in my_string:\n",
    "    if letter == 'l':\n",
    "        count += 1\n",
    "print(count) # prints 2"
   ]
  },
  {
   "cell_type": "code",
   "execution_count": 37,
   "metadata": {},
   "outputs": [
    {
     "name": "stdout",
     "output_type": "stream",
     "text": [
      "Yes\n"
     ]
    }
   ],
   "source": [
    "# testing if a substring exists within a string\n",
    "my_string = 'Hello World'\n",
    "if 'World' in my_string:\n",
    "    print('Yes') # prints Yes if World exists in the string\n",
    "else:\n",
    "    print('No') # prints No if World doesn't exist in the string"
   ]
  },
  {
   "cell_type": "code",
   "execution_count": 38,
   "metadata": {},
   "outputs": [
    {
     "name": "stdout",
     "output_type": "stream",
     "text": [
      "[(0, 'H'), (1, 'e'), (2, 'l'), (3, 'l'), (4, 'o'), (5, ' '), (6, 'W'), (7, 'o'), (8, 'r'), (9, 'l'), (10, 'd')]\n",
      "11\n"
     ]
    }
   ],
   "source": [
    "# enumerating a string\n",
    "my_string = 'Hello World'\n",
    "print(list(enumerate(my_string))) # prints [(0, 'H'), (1, 'e'), (2, 'l'), (3, 'l'), (4, 'o'), (5, ' '), (6, 'W'), (7, 'o'), (8, 'r'), (9, 'l'), (10, 'd')]\n",
    "\n",
    "# getting the length of a string\n",
    "print(len(my_string)) # prints 11"
   ]
  },
  {
   "cell_type": "code",
   "execution_count": 39,
   "metadata": {},
   "outputs": [
    {
     "name": "stdout",
     "output_type": "stream",
     "text": [
      "He said, \"What's there?\"\n",
      "He said, \"What's there?\"\n",
      "He said, \"What's there?\"\n"
     ]
    }
   ],
   "source": [
    "print('''He said, \"What's there?\"''') # prints He said, \"What's there?\"\n",
    "\n",
    "print(\"He said, \\\"What's there?\\\"\") # prints He said, \"What's there?\"\n",
    "\n",
    "print('He said, \"What\\'s there?\"') # prints He said, \"What's there?\""
   ]
  },
  {
   "cell_type": "code",
   "execution_count": 40,
   "metadata": {},
   "outputs": [
    {
     "name": "stdout",
     "output_type": "stream",
     "text": [
      "Hello World !\n",
      "! Hello World\n",
      "Hello World\n"
     ]
    }
   ],
   "source": [
    "# Python string format() method\n",
    "\n",
    "# default(implicit) order\n",
    "print('{} {} {}'.format('Hello', 'World', '!')) # prints Hello World !\n",
    "\n",
    "# positional arguments\n",
    "print('{2} {0} {1}'.format('Hello', 'World', '!')) # prints ! Hello World\n",
    "\n",
    "# keyword arguments\n",
    "print('{greeting} {name}'.format(greeting='Hello', name='World')) # prints Hello World"
   ]
  },
  {
   "cell_type": "code",
   "execution_count": 43,
   "metadata": {},
   "outputs": [
    {
     "name": "stdout",
     "output_type": "stream",
     "text": [
      "[(0, 'n'), (1, 's'), (2, 'h'), (3, 'a'), (4, 'b'), (5, 'i'), (6, 'i'), (7, 'r'), (8, 'w'), (9, 'e'), (10, ' '), (11, 'k'), (12, 'i'), (13, 'z'), (14, 'z'), (15, 'a'), (16, 'h')]\n"
     ]
    }
   ],
   "source": [
    "name = \"nshabiirwe kizzah\"\n",
    "\n",
    "print(list(enumerate(name)))"
   ]
  },
  {
   "cell_type": "code",
   "execution_count": 45,
   "metadata": {},
   "outputs": [
    {
     "name": "stdout",
     "output_type": "stream",
     "text": [
      "My first name is nshabiirwe and last name is kizzah\n"
     ]
    }
   ],
   "source": [
    "print(\"My first name is {f_name} and last name is {l_name}\".format(f_name=\"nshabiirwe\", l_name=\"kizzah\"))"
   ]
  },
  {
   "cell_type": "code",
   "execution_count": 54,
   "metadata": {},
   "outputs": [
    {
     "name": "stdout",
     "output_type": "stream",
     "text": [
      "love coding\n"
     ]
    }
   ],
   "source": [
    "print(\"I\\blove coding\")"
   ]
  },
  {
   "cell_type": "markdown",
   "metadata": {},
   "source": [
    "##### Formating integers"
   ]
  },
  {
   "cell_type": "code",
   "execution_count": 46,
   "metadata": {},
   "outputs": [
    {
     "name": "stdout",
     "output_type": "stream",
     "text": [
      "10\n",
      "1010\n",
      "a\n",
      "10.12\n",
      "1.012345e+01\n",
      "Hello                         \n",
      "                         Hello\n",
      "            Hello             \n"
     ]
    }
   ],
   "source": [
    "# formatting integers\n",
    "print('{:d}'.format(10)) # prints 10\n",
    "\n",
    "# formatting binary\n",
    "print('{:b}'.format(10)) # prints 1010\n",
    "\n",
    "# formatting hexadecimal\n",
    "print('{:x}'.format(10)) # prints a\n",
    "\n",
    "# formatting floating point numbers\n",
    "print('{:.2f}'.format(10.12345)) # prints 10.12\n",
    "\n",
    "# formatting exponent\n",
    "print('{:e}'.format(10.12345)) # prints 1.012345e+01\n",
    "\n",
    "# string alignment\n",
    "print('{:<30}'.format('Hello')) # prints Hello               (left-justified)\n",
    "print('{:>30}'.format('Hello')) # prints                 Hello (right-justified)\n",
    "print('{:^30}'.format('Hello')) # prints    Hello          (center-aligned)"
   ]
  },
  {
   "cell_type": "code",
   "execution_count": 53,
   "metadata": {},
   "outputs": [
    {
     "name": "stdout",
     "output_type": "stream",
     "text": [
      "21\n",
      "10101\n",
      "21.000000\n",
      "15\n",
      "21.000\n",
      "2.100000e+01\n"
     ]
    }
   ],
   "source": [
    "print(\"{:d}\".format(21))\n",
    "print(\"{:b}\".format(21))\n",
    "print(\"{:f}\".format(21))\n",
    "print(\"{:x}\".format(21))\n",
    "print(\"{:.3f}\".format(21))\n",
    "print(\"{:e}\".format(21))"
   ]
  }
 ],
 "metadata": {
  "kernelspec": {
   "display_name": "Python 3.10.5 64-bit",
   "language": "python",
   "name": "python3"
  },
  "language_info": {
   "codemirror_mode": {
    "name": "ipython",
    "version": 3
   },
   "file_extension": ".py",
   "mimetype": "text/x-python",
   "name": "python",
   "nbconvert_exporter": "python",
   "pygments_lexer": "ipython3",
   "version": "3.10.5"
  },
  "orig_nbformat": 4,
  "vscode": {
   "interpreter": {
    "hash": "df95319d8ce4e1d89f5365ae10992bc1f65da593082b1d264e8f529830ec2f02"
   }
  }
 },
 "nbformat": 4,
 "nbformat_minor": 2
}
