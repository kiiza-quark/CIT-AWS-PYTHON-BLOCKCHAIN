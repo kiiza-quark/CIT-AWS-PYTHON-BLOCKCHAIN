{
 "cells": [
  {
   "cell_type": "markdown",
   "metadata": {},
   "source": [
    "# NSHABIIRWE KIZZAH"
   ]
  },
  {
   "cell_type": "markdown",
   "metadata": {},
   "source": [
    "## LOOPS ASSIGNMENT \n",
    "\n",
    "1. Print First 10 natural numbers using while loop.\n",
    "2. Calculate the sum of all numbers from 1 to a given number.\n",
    "3. Write a program to print multiplication table of a given number. eg if number is 2, then output should be 2, 4, 6, 8 ...\n",
    "4. Write a program to display only those numbers from a list that satisfy the following conditions\n",
    "    - The number must be divisible by five\n",
    "    - If the number is greater than 150, then skip it and move to the next number\n",
    "    - If the number is greater than 500, then stop the loop\n",
    "        given `numbers = [12, 75, 150, 180, 145, 525, 50]`\n",
    "5. Write a program to count the total number of digits in a number using a while loop. given number `4673453`\n",
    "6. Display numbers from -10 to -1 using while loop\n"
   ]
  },
  {
   "cell_type": "markdown",
   "metadata": {},
   "source": [
    "#### 1. Print First 10 natural numbers using while loop."
   ]
  },
  {
   "cell_type": "code",
   "execution_count": null,
   "metadata": {},
   "outputs": [],
   "source": [
    "n = 1\n",
    "while n <= 10:\n",
    "    print(n)\n",
    "    n += 1\n",
    "    "
   ]
  },
  {
   "cell_type": "markdown",
   "metadata": {},
   "source": [
    "#### 2. Calculate the sum of all numbers from 1 to a given number."
   ]
  },
  {
   "cell_type": "code",
   "execution_count": null,
   "metadata": {},
   "outputs": [],
   "source": [
    "n = int(input(\"Enter the number: \"))\n",
    "sum = 0\n",
    "\n",
    "for i in range(n + 1):\n",
    "    sum += i\n",
    "\n",
    "print(f\"Sum of numbers up to {n} is {sum}\")"
   ]
  },
  {
   "cell_type": "markdown",
   "metadata": {},
   "source": [
    "#### 3. Write a program to print multiplication table of a given number. eg if number is 2, then output should be 2, 4, 6, 8 ..."
   ]
  },
  {
   "cell_type": "code",
   "execution_count": null,
   "metadata": {},
   "outputs": [],
   "source": [
    "n = int(input(\"Enter a number: \"))\n",
    "upto = int(input(\"Where should the multiplication table stop? \"))\n",
    "\n",
    "for i in range(1, upto + 1):\n",
    "    print(n * i)"
   ]
  },
  {
   "cell_type": "markdown",
   "metadata": {},
   "source": [
    "#### 4. Write a program to display only those numbers from a list that satisfy the following conditions\n",
    "    - The number must be divisible by five\n",
    "    - If the number is greater than 150, then skip it and move to the next number\n",
    "    - If the number is greater than 500, then stop the loop\n",
    "        given `numbers = [12, 75, 150, 180, 145, 525, 50]`"
   ]
  },
  {
   "cell_type": "code",
   "execution_count": null,
   "metadata": {},
   "outputs": [],
   "source": [
    "numbers = [12, 75, 150, 180, 145, 525, 50]\n",
    "\n",
    "for number in numbers:\n",
    "    if number % 5 == 0:\n",
    "        if  number > 500:\n",
    "            break\n",
    "        elif number > 150:\n",
    "            continue\n",
    "        else:\n",
    "            print(number)"
   ]
  },
  {
   "cell_type": "markdown",
   "metadata": {},
   "source": [
    "#### 5. Write a program to count the total number of digits in a number using a while loop. given number `4673453`"
   ]
  },
  {
   "cell_type": "code",
   "execution_count": null,
   "metadata": {},
   "outputs": [],
   "source": [
    "n = 4673453\n",
    "digits = 1\n",
    "while n != 0:\n",
    "    n /= 10\n",
    "    digits += 1\n",
    "\n",
    "print(digits) "
   ]
  },
  {
   "cell_type": "markdown",
   "metadata": {},
   "source": [
    "#### 6. Display numbers from -10 to -1 using while loop"
   ]
  },
  {
   "cell_type": "code",
   "execution_count": null,
   "metadata": {},
   "outputs": [],
   "source": [
    "n = -10\n",
    "while n < 0:\n",
    "    print(n)\n",
    "    n += 1\n"
   ]
  }
 ],
 "metadata": {
  "kernelspec": {
   "display_name": "Python 3.10.5 64-bit",
   "language": "python",
   "name": "python3"
  },
  "language_info": {
   "codemirror_mode": {
    "name": "ipython",
    "version": 3
   },
   "file_extension": ".py",
   "mimetype": "text/x-python",
   "name": "python",
   "nbconvert_exporter": "python",
   "pygments_lexer": "ipython3",
   "version": "3.10.5"
  },
  "orig_nbformat": 4,
  "vscode": {
   "interpreter": {
    "hash": "df95319d8ce4e1d89f5365ae10992bc1f65da593082b1d264e8f529830ec2f02"
   }
  }
 },
 "nbformat": 4,
 "nbformat_minor": 2
}
