{
 "cells": [
  {
   "cell_type": "markdown",
   "metadata": {},
   "source": [
    "ARITHMETIC OPERATORS"
   ]
  },
  {
   "cell_type": "code",
   "execution_count": 2,
   "metadata": {},
   "outputs": [
    {
     "name": "stdout",
     "output_type": "stream",
     "text": [
      "x + y = 19\n",
      "x - y = 11\n",
      "x * y = 60\n",
      "x / y = 3.75\n",
      "x // y = 3\n",
      "x ** y = 50625\n"
     ]
    }
   ],
   "source": [
    "x = 15\n",
    "y = 4\n",
    "\n",
    "# **Output:** x + y = 19\n",
    "print('x + y =',x+y)\n",
    "\n",
    "# **Output:** x - y = 11\n",
    "print('x - y =',x-y)\n",
    "\n",
    "# **Output:** x * y = 60\n",
    "print('x * y =',x*y)\n",
    "\n",
    "# **Output:** x / y = 3.75\n",
    "print('x / y =',x/y)\n",
    "\n",
    "# **Output:** x // y = 3\n",
    "print('x // y =',x//y)\n",
    "\n",
    "# **Output:** x ** y = 50625\n",
    "print('x ** y =',x**y)\n"
   ]
  },
  {
   "cell_type": "markdown",
   "metadata": {},
   "source": [
    "COMPARISON OPERATORS"
   ]
  },
  {
   "cell_type": "code",
   "execution_count": 1,
   "metadata": {},
   "outputs": [
    {
     "name": "stdout",
     "output_type": "stream",
     "text": [
      "x > y is False\n",
      "x < y is True\n",
      "x == y is False\n",
      "x != y is True\n",
      "x >= y is False\n",
      "x <= y is True\n"
     ]
    }
   ],
   "source": [
    "x = 10\n",
    "y = 12\n",
    "\n",
    "# **Output:** x > y is False\n",
    "print('x > y is',x>y)\n",
    "\n",
    "# **Output:** x < y is True\n",
    "print('x < y is',x<y)\n",
    "\n",
    "# **Output:** x == y is False\n",
    "print('x == y is',x==y)\n",
    "\n",
    "# **Output:** x != y is True\n",
    "print('x != y is',x!=y)\n",
    "\n",
    "# **Output:** x >= y is False\n",
    "print('x >= y is',x>=y)\n",
    "\n",
    "# **Output:** x <= y is True\n",
    "print('x <= y is',x<=y)"
   ]
  },
  {
   "cell_type": "code",
   "execution_count": 9,
   "metadata": {},
   "outputs": [],
   "source": [
    "n = 1\n",
    "b = 7\n",
    "\n",
    "if n == 1 & b == 7:\n",
    "    print(\"True\")"
   ]
  }
 ],
 "metadata": {
  "kernelspec": {
   "display_name": "Python 3.10.5 64-bit",
   "language": "python",
   "name": "python3"
  },
  "language_info": {
   "codemirror_mode": {
    "name": "ipython",
    "version": 3
   },
   "file_extension": ".py",
   "mimetype": "text/x-python",
   "name": "python",
   "nbconvert_exporter": "python",
   "pygments_lexer": "ipython3",
   "version": "3.10.5"
  },
  "orig_nbformat": 4,
  "vscode": {
   "interpreter": {
    "hash": "df95319d8ce4e1d89f5365ae10992bc1f65da593082b1d264e8f529830ec2f02"
   }
  }
 },
 "nbformat": 4,
 "nbformat_minor": 2
}
